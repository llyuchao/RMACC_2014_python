{
 "metadata": {
  "name": "",
  "signature": "sha256:1f093ee31c6743e821ebe8699be8ff8b275c073d51379e51df110140709ba96c"
 },
 "nbformat": 3,
 "nbformat_minor": 0,
 "worksheets": [
  {
   "cells": [
    {
     "cell_type": "heading",
     "level": 1,
     "metadata": {},
     "source": [
      "K-means"
     ]
    },
    {
     "cell_type": "markdown",
     "metadata": {},
     "source": [
      "Based on the [spark examples](https://github.com/apache/spark/blob/master/examples/src/main/python/kmeans.py)."
     ]
    },
    {
     "cell_type": "code",
     "collapsed": false,
     "input": [
      "import os\n",
      "import numpy as np"
     ],
     "language": "python",
     "metadata": {},
     "outputs": [],
     "prompt_number": 1
    },
    {
     "cell_type": "markdown",
     "metadata": {},
     "source": [
      "Create input file."
     ]
    },
    {
     "cell_type": "code",
     "collapsed": false,
     "input": [
      "N = 5\n",
      "num_points = 100\n",
      "\n",
      "set1 = np.reshape(1 + np.random.randn(num_points*N), (num_points,N))\n",
      "set2 = np.reshape(5 + np.random.randn(num_points*N), (num_points,N))\n",
      "set3 = np.reshape(10 + np.random.randn(num_points*N), (num_points,N))\n",
      "\n",
      "x = np.concatenate([set1, set2, set3])\n",
      "\n",
      "np.savetxt('points.txt', x, delimiter=',', fmt='%10.5f') "
     ],
     "language": "python",
     "metadata": {},
     "outputs": [],
     "prompt_number": 73
    },
    {
     "cell_type": "heading",
     "level": 2,
     "metadata": {},
     "source": [
      "Using `sklearn`"
     ]
    },
    {
     "cell_type": "code",
     "collapsed": false,
     "input": [
      "from sklearn.cluster import KMeans\n",
      "from sklearn.metrics.pairwise import euclidean_distances\n",
      "\n",
      "data = np.loadtxt('points.txt', delimiter=',')\n",
      "k_means = KMeans(init='k-means++', n_clusters=3, n_init=10)\n",
      "k_means.fit(data)"
     ],
     "language": "python",
     "metadata": {},
     "outputs": [
      {
       "metadata": {},
       "output_type": "pyout",
       "prompt_number": 74,
       "text": [
        "KMeans(copy_x=True, init='k-means++', max_iter=300, n_clusters=3, n_init=10,\n",
        "    n_jobs=1, precompute_distances=True, random_state=None, tol=0.0001,\n",
        "    verbose=0)"
       ]
      }
     ],
     "prompt_number": 74
    },
    {
     "cell_type": "code",
     "collapsed": false,
     "input": [
      "%matplotlib inline\n",
      "import matplotlib.pyplot as plt\n",
      "\n",
      "def plot(centers):\n",
      "    for i in range(3):\n",
      "        plt.plot(centers[i], '-o')"
     ],
     "language": "python",
     "metadata": {},
     "outputs": [],
     "prompt_number": 75
    },
    {
     "cell_type": "code",
     "collapsed": false,
     "input": [
      "plot(k_means.cluster_centers_)"
     ],
     "language": "python",
     "metadata": {},
     "outputs": [
      {
       "metadata": {},
       "output_type": "display_data",
       "png": "[encoded data removed]",
       "text": [
        "<matplotlib.figure.Figure at 0x10884a6d0>"
       ]
      }
     ],
     "prompt_number": 76
    },
    {
     "cell_type": "heading",
     "level": 2,
     "metadata": {},
     "source": [
      "Using `numpy`"
     ]
    },
    {
     "cell_type": "code",
     "collapsed": false,
     "input": [
      "def closest_point(p, centers):  \n",
      "    dist = map(lambda x: np.sum((p - x) ** 2), centers)\n",
      "    return np.argmin(dist)"
     ],
     "language": "python",
     "metadata": {},
     "outputs": [],
     "prompt_number": 77
    },
    {
     "cell_type": "markdown",
     "metadata": {},
     "source": [
      "What is the closest center?"
     ]
    },
    {
     "cell_type": "code",
     "collapsed": false,
     "input": [
      "from functools import partial\n",
      "\n",
      "centers = data[:3].copy()\n",
      "closets_center = partial(closest_point, centers=centers)\n",
      "tmp = map(closets_center, data)\n",
      "\n",
      "print tmp[:10]"
     ],
     "language": "python",
     "metadata": {},
     "outputs": [
      {
       "output_type": "stream",
       "stream": "stdout",
       "text": [
        "[0, 1, 2, 0, 0, 0, 2, 1, 0, 2]\n"
       ]
      }
     ],
     "prompt_number": 78
    },
    {
     "cell_type": "markdown",
     "metadata": {},
     "source": [
      "Iterate"
     ]
    },
    {
     "cell_type": "code",
     "collapsed": false,
     "input": [
      "import random\n",
      "\n",
      "k_points = data[:3].copy()\n",
      "\n",
      "for i in range(100):\n",
      "    closets_center = partial(closest_point, centers=k_points)\n",
      "    tmp = np.array(map(closets_center, data))\n",
      "    for i in range(len(centers)):\n",
      "        k_points[i] = np.mean(data[tmp==i])"
     ],
     "language": "python",
     "metadata": {},
     "outputs": [],
     "prompt_number": 79
    },
    {
     "cell_type": "code",
     "collapsed": false,
     "input": [
      "plot(k_points)"
     ],
     "language": "python",
     "metadata": {},
     "outputs": [
      {
       "metadata": {},
       "output_type": "display_data",
       "png": "[encoded data removed]",
       "text": [
        "<matplotlib.figure.Figure at 0x107e553d0>"
       ]
      }
     ],
     "prompt_number": 80
    },
    {
     "cell_type": "heading",
     "level": 2,
     "metadata": {},
     "source": [
      "Spark"
     ]
    },
    {
     "cell_type": "code",
     "collapsed": false,
     "input": [
      "from pyspark import  SparkContext\n",
      "\n",
      "#SparkContext.setSystemProperty('spark.executor.memory', '2g')\n",
      "sc = SparkContext( 'local[4]', 'pyspark')"
     ],
     "language": "python",
     "metadata": {},
     "outputs": [
      {
       "ename": "ValueError",
       "evalue": "Cannot run multiple SparkContexts at once; existing SparkContext(app=pyspark, master=local[4]) created by __init__ at <ipython-input-31-aef84120cda7>:4 ",
       "output_type": "pyerr",
       "traceback": [
        "\u001b[0;31m---------------------------------------------------------------------------\u001b[0m\n\u001b[0;31mValueError\u001b[0m                                Traceback (most recent call last)",
        "\u001b[0;32m<ipython-input-81-aef84120cda7>\u001b[0m in \u001b[0;36m<module>\u001b[0;34m()\u001b[0m\n\u001b[1;32m      2\u001b[0m \u001b[0;34m\u001b[0m\u001b[0m\n\u001b[1;32m      3\u001b[0m \u001b[0;31m#SparkContext.setSystemProperty('spark.executor.memory', '2g')\u001b[0m\u001b[0;34m\u001b[0m\u001b[0;34m\u001b[0m\u001b[0m\n\u001b[0;32m----> 4\u001b[0;31m \u001b[0msc\u001b[0m \u001b[0;34m=\u001b[0m \u001b[0mSparkContext\u001b[0m\u001b[0;34m(\u001b[0m \u001b[0;34m'local[4]'\u001b[0m\u001b[0;34m,\u001b[0m \u001b[0;34m'pyspark'\u001b[0m\u001b[0;34m)\u001b[0m\u001b[0;34m\u001b[0m\u001b[0m\n\u001b[0m",
        "\u001b[0;32m/Users/mlunacek/software/spark/spark-1.0.1-bin-hadoop1/python/pyspark/context.pyc\u001b[0m in \u001b[0;36m__init__\u001b[0;34m(self, master, appName, sparkHome, pyFiles, environment, batchSize, serializer, conf, gateway)\u001b[0m\n\u001b[1;32m     92\u001b[0m             \u001b[0mtempNamedTuple\u001b[0m \u001b[0;34m=\u001b[0m \u001b[0mnamedtuple\u001b[0m\u001b[0;34m(\u001b[0m\u001b[0;34m\"Callsite\"\u001b[0m\u001b[0;34m,\u001b[0m \u001b[0;34m\"function file linenum\"\u001b[0m\u001b[0;34m)\u001b[0m\u001b[0;34m\u001b[0m\u001b[0m\n\u001b[1;32m     93\u001b[0m             \u001b[0mself\u001b[0m\u001b[0;34m.\u001b[0m\u001b[0m_callsite\u001b[0m \u001b[0;34m=\u001b[0m \u001b[0mtempNamedTuple\u001b[0m\u001b[0;34m(\u001b[0m\u001b[0mfunction\u001b[0m\u001b[0;34m=\u001b[0m\u001b[0mNone\u001b[0m\u001b[0;34m,\u001b[0m \u001b[0mfile\u001b[0m\u001b[0;34m=\u001b[0m\u001b[0mNone\u001b[0m\u001b[0;34m,\u001b[0m \u001b[0mlinenum\u001b[0m\u001b[0;34m=\u001b[0m\u001b[0mNone\u001b[0m\u001b[0;34m)\u001b[0m\u001b[0;34m\u001b[0m\u001b[0m\n\u001b[0;32m---> 94\u001b[0;31m         \u001b[0mSparkContext\u001b[0m\u001b[0;34m.\u001b[0m\u001b[0m_ensure_initialized\u001b[0m\u001b[0;34m(\u001b[0m\u001b[0mself\u001b[0m\u001b[0;34m,\u001b[0m \u001b[0mgateway\u001b[0m\u001b[0;34m=\u001b[0m\u001b[0mgateway\u001b[0m\u001b[0;34m)\u001b[0m\u001b[0;34m\u001b[0m\u001b[0m\n\u001b[0m\u001b[1;32m     95\u001b[0m \u001b[0;34m\u001b[0m\u001b[0m\n\u001b[1;32m     96\u001b[0m         \u001b[0mself\u001b[0m\u001b[0;34m.\u001b[0m\u001b[0menvironment\u001b[0m \u001b[0;34m=\u001b[0m \u001b[0menvironment\u001b[0m \u001b[0;32mor\u001b[0m \u001b[0;34m{\u001b[0m\u001b[0;34m}\u001b[0m\u001b[0;34m\u001b[0m\u001b[0m\n",
        "\u001b[0;32m/Users/mlunacek/software/spark/spark-1.0.1-bin-hadoop1/python/pyspark/context.pyc\u001b[0m in \u001b[0;36m_ensure_initialized\u001b[0;34m(cls, instance, gateway)\u001b[0m\n\u001b[1;32m    201\u001b[0m                     raise ValueError(\"Cannot run multiple SparkContexts at once; existing SparkContext(app=%s, master=%s)\" \\\n\u001b[1;32m    202\u001b[0m                         \u001b[0;34m\" created by %s at %s:%s \"\u001b[0m\u001b[0;31m \u001b[0m\u001b[0;31m\\\u001b[0m\u001b[0;34m\u001b[0m\u001b[0m\n\u001b[0;32m--> 203\u001b[0;31m                         % (currentAppName, currentMaster, callsite.function, callsite.file, callsite.linenum))\n\u001b[0m\u001b[1;32m    204\u001b[0m                 \u001b[0;32melse\u001b[0m\u001b[0;34m:\u001b[0m\u001b[0;34m\u001b[0m\u001b[0m\n\u001b[1;32m    205\u001b[0m                     \u001b[0mSparkContext\u001b[0m\u001b[0;34m.\u001b[0m\u001b[0m_active_spark_context\u001b[0m \u001b[0;34m=\u001b[0m \u001b[0minstance\u001b[0m\u001b[0;34m\u001b[0m\u001b[0m\n",
        "\u001b[0;31mValueError\u001b[0m: Cannot run multiple SparkContexts at once; existing SparkContext(app=pyspark, master=local[4]) created by __init__ at <ipython-input-31-aef84120cda7>:4 "
       ]
      }
     ],
     "prompt_number": 81
    },
    {
     "cell_type": "markdown",
     "metadata": {},
     "source": [
      "Convert line to `numpy` array of floats."
     ]
    },
    {
     "cell_type": "code",
     "collapsed": false,
     "input": [
      "def parseVector(line):\n",
      "    return np.array([float(x) for x in line.strip().split(',')])"
     ],
     "language": "python",
     "metadata": {},
     "outputs": [],
     "prompt_number": 82
    },
    {
     "cell_type": "code",
     "collapsed": false,
     "input": [
      "lines = sc.textFile('points.txt')\n",
      "lines.take(2)"
     ],
     "language": "python",
     "metadata": {},
     "outputs": [
      {
       "metadata": {},
       "output_type": "pyout",
       "prompt_number": 83,
       "text": [
        "[u'   1.42923,   0.33291,   2.00597,   1.38784,   0.42166',\n",
        " u'   2.36424,   0.13936,  -0.04518,   2.30140,   1.25451']"
       ]
      }
     ],
     "prompt_number": 83
    },
    {
     "cell_type": "code",
     "collapsed": false,
     "input": [
      "data = lines.map(parseVector).cache()\n",
      "print data.count()"
     ],
     "language": "python",
     "metadata": {},
     "outputs": [
      {
       "output_type": "stream",
       "stream": "stdout",
       "text": [
        "300\n"
       ]
      }
     ],
     "prompt_number": 84
    },
    {
     "cell_type": "code",
     "collapsed": false,
     "input": [
      "data.first()"
     ],
     "language": "python",
     "metadata": {},
     "outputs": [
      {
       "metadata": {},
       "output_type": "pyout",
       "prompt_number": 85,
       "text": [
        "array([ 1.42923,  0.33291,  2.00597,  1.38784,  0.42166])"
       ]
      }
     ],
     "prompt_number": 85
    },
    {
     "cell_type": "code",
     "collapsed": false,
     "input": [
      "k_points = data.take(3)\n",
      "temp_dist = 1.0\n",
      "\n",
      "closest = data.map(\n",
      "    lambda p : (closest_point(p, k_points), (p, 1)))\n",
      "closest.take(2)"
     ],
     "language": "python",
     "metadata": {},
     "outputs": [
      {
       "metadata": {},
       "output_type": "pyout",
       "prompt_number": 86,
       "text": [
        "[(0, (array([ 1.42923,  0.33291,  2.00597,  1.38784,  0.42166]), 1)),\n",
        " (1, (array([ 2.36424,  0.13936, -0.04518,  2.3014 ,  1.25451]), 1))]"
       ]
      }
     ],
     "prompt_number": 86
    },
    {
     "cell_type": "code",
     "collapsed": false,
     "input": [
      "point_stats = closest.reduceByKey(\n",
      "    lambda (x1, y1), (x2, y2): (x1 + x2, y1 + y2))\n",
      "point_stats.take(2)"
     ],
     "language": "python",
     "metadata": {},
     "outputs": [
      {
       "metadata": {},
       "output_type": "pyout",
       "prompt_number": 87,
       "text": [
        "[(0,\n",
        "  (array([ 174.99893,  162.67506,  244.21735,  152.65029,  192.79848]), 78)),\n",
        " (1,\n",
        "  (array([ 597.19838,  525.04939,  516.46994,  579.01223,  620.81501]), 91))]"
       ]
      }
     ],
     "prompt_number": 87
    },
    {
     "cell_type": "code",
     "collapsed": false,
     "input": [
      "new_points = point_stats.map(\n",
      "    lambda (x, (y, z)): (x, y / z)).collect()\n",
      "print new_points"
     ],
     "language": "python",
     "metadata": {},
     "outputs": [
      {
       "output_type": "stream",
       "stream": "stdout",
       "text": [
        "[(0, array([ 2.24357603,  2.08557769,  3.13099167,  1.957055  ,  2.47177538])), (1, array([ 6.56261956,  5.76977352,  5.67549385,  6.36277176,  6.82214297])), (2, array([ 5.98432855,  7.05768672,  6.43427328,  6.81521069,  6.05383611]))]\n"
       ]
      }
     ],
     "prompt_number": 88
    },
    {
     "cell_type": "code",
     "collapsed": false,
     "input": [
      "temp_dist = sum(map(lambda (x,y): np.sum((k_points[x] - y) ** 2), \n",
      "                new_points))\n",
      "\n",
      "for (x, y) in new_points:\n",
      "    k_points[x] = y"
     ],
     "language": "python",
     "metadata": {},
     "outputs": [],
     "prompt_number": 89
    },
    {
     "cell_type": "code",
     "collapsed": false,
     "input": [
      "for x in k_points:\n",
      "    print x[:5]"
     ],
     "language": "python",
     "metadata": {},
     "outputs": [
      {
       "output_type": "stream",
       "stream": "stdout",
       "text": [
        "[ 2.24357603  2.08557769  3.13099167  1.957055    2.47177538]\n",
        "[ 6.56261956  5.76977352  5.67549385  6.36277176  6.82214297]\n",
        "[ 5.98432855  7.05768672  6.43427328  6.81521069  6.05383611]\n"
       ]
      }
     ],
     "prompt_number": 90
    },
    {
     "cell_type": "heading",
     "level": 2,
     "metadata": {},
     "source": [
      "Summary"
     ]
    },
    {
     "cell_type": "code",
     "collapsed": false,
     "input": [
      "lines = sc.textFile('points.txt')\n",
      "data = lines.map(parseVector).cache()\n",
      "\n",
      "k_points = data.take(3)\n",
      "temp_dist = 10.0\n",
      "\n",
      "while temp_dist > 0.001:\n",
      "\n",
      "    closest = data.map(\n",
      "        lambda p : (closest_point(p, k_points), (p, 1)))\n",
      "    \n",
      "    point_stats = closest.reduceByKey(\n",
      "        lambda (x1, y1), (x2, y2): (x1 + x2, y1 + y2))\n",
      "    \n",
      "    new_points = point_stats.map(\n",
      "        lambda (x, (y, z)): (x, y / z)).collect()\n",
      "\n",
      "    temp_dist = sum(map(lambda (x,y): np.sum((k_points[x] - y) ** 2), \n",
      "                    new_points))\n",
      "    \n",
      "    for (x, y) in new_points:\n",
      "        k_points[x] = y"
     ],
     "language": "python",
     "metadata": {},
     "outputs": [],
     "prompt_number": 94
    },
    {
     "cell_type": "code",
     "collapsed": false,
     "input": [
      "for x in k_points:\n",
      "    print x[:5]"
     ],
     "language": "python",
     "metadata": {},
     "outputs": [
      {
       "output_type": "stream",
       "stream": "stdout",
       "text": [
        "[ 0.8250141  1.1288085  0.919545   1.100244   0.8560799]\n",
        "[ 4.8656728  4.9194889  5.0551238  5.0519769  5.0702111]\n",
        "[  9.8707566  10.0745167  10.0611021  10.0923303  10.1403692]\n"
       ]
      }
     ],
     "prompt_number": 95
    },
    {
     "cell_type": "code",
     "collapsed": false,
     "input": [
      "plot(k_points)"
     ],
     "language": "python",
     "metadata": {},
     "outputs": [
      {
       "metadata": {},
       "output_type": "display_data",
       "png": "[encoded data removed]",
       "text": [
        "<matplotlib.figure.Figure at 0x107d73610>"
       ]
      }
     ],
     "prompt_number": 96
    },
    {
     "cell_type": "heading",
     "level": 2,
     "metadata": {},
     "source": [
      "`mllib`"
     ]
    },
    {
     "cell_type": "code",
     "collapsed": false,
     "input": [
      "from pyspark.mllib.clustering import KMeans"
     ],
     "language": "python",
     "metadata": {},
     "outputs": [],
     "prompt_number": 97
    },
    {
     "cell_type": "code",
     "collapsed": false,
     "input": [
      "lines = sc.textFile('points.txt')\n",
      "data = lines.map(parseVector).cache()"
     ],
     "language": "python",
     "metadata": {},
     "outputs": [],
     "prompt_number": 102
    },
    {
     "cell_type": "code",
     "collapsed": false,
     "input": [
      "clusters = KMeans.train(data, 3, maxIterations=30, \n",
      "                        runs=10, initializationMode=\"random\")"
     ],
     "language": "python",
     "metadata": {},
     "outputs": [],
     "prompt_number": 106
    },
    {
     "cell_type": "code",
     "collapsed": false,
     "input": [
      "clusters.centers"
     ],
     "language": "python",
     "metadata": {},
     "outputs": [
      {
       "metadata": {},
       "output_type": "pyout",
       "prompt_number": 107,
       "text": [
        "[array([  9.8707566,  10.0745167,  10.0611021,  10.0923303,  10.1403692]),\n",
        " array([ 0.8250141,  1.1288085,  0.919545 ,  1.100244 ,  0.8560799]),\n",
        " array([ 4.8656728,  4.9194889,  5.0551238,  5.0519769,  5.0702111])]"
       ]
      }
     ],
     "prompt_number": 107
    },
    {
     "cell_type": "code",
     "collapsed": false,
     "input": [
      "plot(clusters.centers)"
     ],
     "language": "python",
     "metadata": {},
     "outputs": [
      {
       "metadata": {},
       "output_type": "display_data",
       "png": "[encoded data removed]",
       "text": [
        "<matplotlib.figure.Figure at 0x1038a3110>"
       ]
      }
     ],
     "prompt_number": 108
    },
    {
     "cell_type": "code",
     "collapsed": false,
     "input": [],
     "language": "python",
     "metadata": {},
     "outputs": []
    }
   ],
   "metadata": {}
  }
 ]
}