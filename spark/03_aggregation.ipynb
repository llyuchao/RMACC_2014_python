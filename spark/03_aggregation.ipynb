{
 "metadata": {
  "name": "",
  "signature": "sha256:12615595f53ec0c4ed6c7b6c429c2c574fa6587ab8b105f05d310d61a9eb4d00"
 },
 "nbformat": 3,
 "nbformat_minor": 0,
 "worksheets": [
  {
   "cells": [
    {
     "cell_type": "heading",
     "level": 1,
     "metadata": {},
     "source": [
      "Simple Aggregation"
     ]
    },
    {
     "cell_type": "code",
     "collapsed": false,
     "input": [
      "import numpy as np\n",
      "\n",
      "data = np.arange(1000).reshape(100,10)\n",
      "print data.shape"
     ],
     "language": "python",
     "metadata": {},
     "outputs": [
      {
       "output_type": "stream",
       "stream": "stdout",
       "text": [
        "(100, 10)\n"
       ]
      }
     ],
     "prompt_number": 1
    },
    {
     "cell_type": "heading",
     "level": 2,
     "metadata": {},
     "source": [
      "Pandas"
     ]
    },
    {
     "cell_type": "code",
     "collapsed": false,
     "input": [
      "import pandas as pd\n",
      "\n",
      "tmp = pd.DataFrame(data, \n",
      "             columns=['x{0}'.format(i) for i in range(data.shape[1])])\n",
      "tmp.head()"
     ],
     "language": "python",
     "metadata": {},
     "outputs": [
      {
       "html": [
        "<div style=\"max-height:1000px;max-width:1500px;overflow:auto;\">\n",
        "<table border=\"1\" class=\"dataframe\">\n",
        "  <thead>\n",
        "    <tr style=\"text-align: right;\">\n",
        "      <th></th>\n",
        "      <th>x0</th>\n",
        "      <th>x1</th>\n",
        "      <th>x2</th>\n",
        "      <th>x3</th>\n",
        "      <th>x4</th>\n",
        "      <th>x5</th>\n",
        "      <th>x6</th>\n",
        "      <th>x7</th>\n",
        "      <th>x8</th>\n",
        "      <th>x9</th>\n",
        "    </tr>\n",
        "  </thead>\n",
        "  <tbody>\n",
        "    <tr>\n",
        "      <th>0</th>\n",
        "      <td>  0</td>\n",
        "      <td>  1</td>\n",
        "      <td>  2</td>\n",
        "      <td>  3</td>\n",
        "      <td>  4</td>\n",
        "      <td>  5</td>\n",
        "      <td>  6</td>\n",
        "      <td>  7</td>\n",
        "      <td>  8</td>\n",
        "      <td>  9</td>\n",
        "    </tr>\n",
        "    <tr>\n",
        "      <th>1</th>\n",
        "      <td> 10</td>\n",
        "      <td> 11</td>\n",
        "      <td> 12</td>\n",
        "      <td> 13</td>\n",
        "      <td> 14</td>\n",
        "      <td> 15</td>\n",
        "      <td> 16</td>\n",
        "      <td> 17</td>\n",
        "      <td> 18</td>\n",
        "      <td> 19</td>\n",
        "    </tr>\n",
        "    <tr>\n",
        "      <th>2</th>\n",
        "      <td> 20</td>\n",
        "      <td> 21</td>\n",
        "      <td> 22</td>\n",
        "      <td> 23</td>\n",
        "      <td> 24</td>\n",
        "      <td> 25</td>\n",
        "      <td> 26</td>\n",
        "      <td> 27</td>\n",
        "      <td> 28</td>\n",
        "      <td> 29</td>\n",
        "    </tr>\n",
        "    <tr>\n",
        "      <th>3</th>\n",
        "      <td> 30</td>\n",
        "      <td> 31</td>\n",
        "      <td> 32</td>\n",
        "      <td> 33</td>\n",
        "      <td> 34</td>\n",
        "      <td> 35</td>\n",
        "      <td> 36</td>\n",
        "      <td> 37</td>\n",
        "      <td> 38</td>\n",
        "      <td> 39</td>\n",
        "    </tr>\n",
        "    <tr>\n",
        "      <th>4</th>\n",
        "      <td> 40</td>\n",
        "      <td> 41</td>\n",
        "      <td> 42</td>\n",
        "      <td> 43</td>\n",
        "      <td> 44</td>\n",
        "      <td> 45</td>\n",
        "      <td> 46</td>\n",
        "      <td> 47</td>\n",
        "      <td> 48</td>\n",
        "      <td> 49</td>\n",
        "    </tr>\n",
        "  </tbody>\n",
        "</table>\n",
        "<p>5 rows \u00d7 10 columns</p>\n",
        "</div>"
       ],
       "metadata": {},
       "output_type": "pyout",
       "prompt_number": 2,
       "text": [
        "   x0  x1  x2  x3  x4  x5  x6  x7  x8  x9\n",
        "0   0   1   2   3   4   5   6   7   8   9\n",
        "1  10  11  12  13  14  15  16  17  18  19\n",
        "2  20  21  22  23  24  25  26  27  28  29\n",
        "3  30  31  32  33  34  35  36  37  38  39\n",
        "4  40  41  42  43  44  45  46  47  48  49\n",
        "\n",
        "[5 rows x 10 columns]"
       ]
      }
     ],
     "prompt_number": 2
    },
    {
     "cell_type": "markdown",
     "metadata": {},
     "source": [
      "What is the row sum?"
     ]
    },
    {
     "cell_type": "code",
     "collapsed": false,
     "input": [
      "tmp.sum(axis=1)"
     ],
     "language": "python",
     "metadata": {},
     "outputs": [
      {
       "metadata": {},
       "output_type": "pyout",
       "prompt_number": 3,
       "text": [
        "0       45\n",
        "1      145\n",
        "2      245\n",
        "3      345\n",
        "4      445\n",
        "5      545\n",
        "6      645\n",
        "7      745\n",
        "8      845\n",
        "9      945\n",
        "10    1045\n",
        "11    1145\n",
        "12    1245\n",
        "13    1345\n",
        "14    1445\n",
        "...\n",
        "85    8545\n",
        "86    8645\n",
        "87    8745\n",
        "88    8845\n",
        "89    8945\n",
        "90    9045\n",
        "91    9145\n",
        "92    9245\n",
        "93    9345\n",
        "94    9445\n",
        "95    9545\n",
        "96    9645\n",
        "97    9745\n",
        "98    9845\n",
        "99    9945\n",
        "Length: 100, dtype: int64"
       ]
      }
     ],
     "prompt_number": 3
    },
    {
     "cell_type": "markdown",
     "metadata": {},
     "source": [
      "Row sum?"
     ]
    },
    {
     "cell_type": "code",
     "collapsed": false,
     "input": [
      "tmp.sum(axis=0)"
     ],
     "language": "python",
     "metadata": {},
     "outputs": [
      {
       "metadata": {},
       "output_type": "pyout",
       "prompt_number": 4,
       "text": [
        "x0    49500\n",
        "x1    49600\n",
        "x2    49700\n",
        "x3    49800\n",
        "x4    49900\n",
        "x5    50000\n",
        "x6    50100\n",
        "x7    50200\n",
        "x8    50300\n",
        "x9    50400\n",
        "dtype: int64"
       ]
      }
     ],
     "prompt_number": 4
    },
    {
     "cell_type": "code",
     "collapsed": false,
     "input": [
      "tmp.to_csv('numbers.csv', index=False)"
     ],
     "language": "python",
     "metadata": {},
     "outputs": [],
     "prompt_number": 5
    },
    {
     "cell_type": "heading",
     "level": 2,
     "metadata": {},
     "source": [
      "Spark"
     ]
    },
    {
     "cell_type": "code",
     "collapsed": false,
     "input": [
      "from pyspark import  SparkContext\n",
      "\n",
      "sc = SparkContext( 'local[4]', 'pyspark')"
     ],
     "language": "python",
     "metadata": {},
     "outputs": [],
     "prompt_number": 6
    },
    {
     "cell_type": "code",
     "collapsed": false,
     "input": [
      "lines = sc.textFile('numbers.csv')\n",
      "for l in lines.take(3):\n",
      "    print l"
     ],
     "language": "python",
     "metadata": {},
     "outputs": [
      {
       "output_type": "stream",
       "stream": "stdout",
       "text": [
        "x0,x1,x2,x3,x4,x5,x6,x7,x8,x9\n",
        "0,1,2,3,4,5,6,7,8,9\n",
        "10,11,12,13,14,15,16,17,18,19\n"
       ]
      }
     ],
     "prompt_number": 8
    },
    {
     "cell_type": "markdown",
     "metadata": {},
     "source": [
      "How do we skip the header?"
     ]
    },
    {
     "cell_type": "code",
     "collapsed": false,
     "input": [
      "lines = lines.filter(lambda x: x.find('x') != 0)\n",
      "for l in lines.take(2):\n",
      "    print l"
     ],
     "language": "python",
     "metadata": {},
     "outputs": [
      {
       "output_type": "stream",
       "stream": "stdout",
       "text": [
        "0,1,2,3,4,5,6,7,8,9\n",
        "10,11,12,13,14,15,16,17,18,19\n"
       ]
      }
     ],
     "prompt_number": 9
    },
    {
     "cell_type": "code",
     "collapsed": false,
     "input": [
      "data = lines.map(lambda x: x.split(','))\n",
      "data.take(3)"
     ],
     "language": "python",
     "metadata": {},
     "outputs": [
      {
       "metadata": {},
       "output_type": "pyout",
       "prompt_number": 10,
       "text": [
        "[[u'0', u'1', u'2', u'3', u'4', u'5', u'6', u'7', u'8', u'9'],\n",
        " [u'10', u'11', u'12', u'13', u'14', u'15', u'16', u'17', u'18', u'19'],\n",
        " [u'20', u'21', u'22', u'23', u'24', u'25', u'26', u'27', u'28', u'29']]"
       ]
      }
     ],
     "prompt_number": 10
    },
    {
     "cell_type": "heading",
     "level": 3,
     "metadata": {},
     "source": [
      "Row Sum"
     ]
    },
    {
     "cell_type": "code",
     "collapsed": false,
     "input": [
      "def row_sum(x):\n",
      "    int_x = map(lambda x: int(x), x)\n",
      "    return sum(int_x)\n",
      "\n",
      "data_row_sum = data.map(row_sum)\n",
      "\n",
      "print data_row_sum.collect()\n",
      "print data_row_sum.count()"
     ],
     "language": "python",
     "metadata": {},
     "outputs": [
      {
       "output_type": "stream",
       "stream": "stdout",
       "text": [
        "[45, 145, 245, 345, 445, 545, 645, 745, 845, 945, 1045, 1145, 1245, 1345, 1445, 1545, 1645, 1745, 1845, 1945, 2045, 2145, 2245, 2345, 2445, 2545, 2645, 2745, 2845, 2945, 3045, 3145, 3245, 3345, 3445, 3545, 3645, 3745, 3845, 3945, 4045, 4145, 4245, 4345, 4445, 4545, 4645, 4745, 4845, 4945, 5045, 5145, 5245, 5345, 5445, 5545, 5645, 5745, 5845, 5945, 6045, 6145, 6245, 6345, 6445, 6545, 6645, 6745, 6845, 6945, 7045, 7145, 7245, 7345, 7445, 7545, 7645, 7745, 7845, 7945, 8045, 8145, 8245, 8345, 8445, 8545, 8645, 8745, 8845, 8945, 9045, 9145, 9245, 9345, 9445, 9545, 9645, 9745, 9845, 9945]\n",
        "100\n"
       ]
      }
     ],
     "prompt_number": 11
    },
    {
     "cell_type": "heading",
     "level": 3,
     "metadata": {},
     "source": [
      "Col Sum"
     ]
    },
    {
     "cell_type": "code",
     "collapsed": false,
     "input": [
      "def col_key(x):\n",
      "    for i, value in enumerate(x):\n",
      "       yield (i, int(value))\n",
      "\n",
      "tmp = data.flatMap(col_key)\n",
      "tmp.take(12)"
     ],
     "language": "python",
     "metadata": {},
     "outputs": [
      {
       "metadata": {},
       "output_type": "pyout",
       "prompt_number": 27,
       "text": [
        "[(0, 0),\n",
        " (1, 1),\n",
        " (2, 2),\n",
        " (3, 3),\n",
        " (4, 4),\n",
        " (5, 5),\n",
        " (6, 6),\n",
        " (7, 7),\n",
        " (8, 8),\n",
        " (9, 9),\n",
        " (0, 10),\n",
        " (1, 11)]"
       ]
      }
     ],
     "prompt_number": 27
    },
    {
     "cell_type": "code",
     "collapsed": false,
     "input": [
      "tmp.take(3)"
     ],
     "language": "python",
     "metadata": {},
     "outputs": [
      {
       "metadata": {},
       "output_type": "pyout",
       "prompt_number": 28,
       "text": [
        "[(0, 0), (1, 1), (2, 2)]"
       ]
      }
     ],
     "prompt_number": 28
    },
    {
     "cell_type": "code",
     "collapsed": false,
     "input": [
      "tmp = tmp.groupByKey()\n",
      "for i in tmp.take(2):\n",
      "    print i"
     ],
     "language": "python",
     "metadata": {},
     "outputs": [
      {
       "output_type": "stream",
       "stream": "stdout",
       "text": [
        "(0, <pyspark.resultiterable.ResultIterable object at 0x1077e3e90>)\n",
        "(8, <pyspark.resultiterable.ResultIterable object at 0x1077e32d0>)\n"
       ]
      }
     ],
     "prompt_number": 29
    },
    {
     "cell_type": "code",
     "collapsed": false,
     "input": [
      "data_col_sum = tmp.map(lambda x: sum(x[1]))\n",
      "for i in data_col_sum.take(2):\n",
      "    print i"
     ],
     "language": "python",
     "metadata": {},
     "outputs": [
      {
       "output_type": "stream",
       "stream": "stdout",
       "text": [
        "49500\n",
        "50300\n"
       ]
      }
     ],
     "prompt_number": 30
    },
    {
     "cell_type": "code",
     "collapsed": false,
     "input": [
      "print data_col_sum.collect()\n",
      "print data_col_sum.count()"
     ],
     "language": "python",
     "metadata": {},
     "outputs": [
      {
       "output_type": "stream",
       "stream": "stdout",
       "text": [
        "[49500, 50300, 49900, 49600, 50000, 50400, 49700, 50100, 49800, 50200]\n",
        "10\n"
       ]
      }
     ],
     "prompt_number": 31
    },
    {
     "cell_type": "code",
     "collapsed": false,
     "input": [],
     "language": "python",
     "metadata": {},
     "outputs": []
    }
   ],
   "metadata": {}
  }
 ]
}