{
 "metadata": {
  "name": "",
  "signature": "sha256:aecc3c4a2014c1eb9882ae7ca58bf252d6bd57724a5b2a141085a64a3a2c5cf0"
 },
 "nbformat": 3,
 "nbformat_minor": 0,
 "worksheets": [
  {
   "cells": [
    {
     "cell_type": "markdown",
     "metadata": {},
     "source": [
      "<img src='https://www.rc.colorado.edu/sites/all/themes/research/logo.png' style=\"height:75px\">"
     ]
    },
    {
     "cell_type": "markdown",
     "metadata": {},
     "source": [
      "##Movies\n",
      "\n",
      "This is adapted from [Python for Data Analysis](http://www.amazon.com/Python-Data-Analysis-Wrangling-IPython/dp/1449319793) by Wes McKinney\n",
      "\n",
      "- Joining\n",
      "- Groupby\n",
      "- Sorting\n",
      "\n",
      "Question:\n",
      "\n",
      "- Ratings over time?\n",
      "- Highly rated movie?\n",
      "- That appeals to both `M` and `F`?\n"
     ]
    },
    {
     "cell_type": "code",
     "collapsed": false,
     "input": [
      "import os\n",
      "import pandas as pd"
     ],
     "language": "python",
     "metadata": {},
     "outputs": [],
     "prompt_number": 1
    },
    {
     "cell_type": "markdown",
     "metadata": {},
     "source": [
      "### Read in the movie data: `pd.read_table`"
     ]
    },
    {
     "cell_type": "code",
     "collapsed": false,
     "input": [
      "def get_movie_data():\n",
      "    \n",
      "    unames = ['user_id','gender','age','occupation','zip']\n",
      "    users = pd.read_table(os.path.join('data','users.dat'), \n",
      "                          sep='::', header=None, names=unames)\n",
      "    \n",
      "    rnames = ['user_id', 'movie_id', 'rating', 'timestamp']\n",
      "    ratings = pd.read_table(os.path.join('data', 'ratings.dat'), \n",
      "                            sep='::', header=None, names=rnames)\n",
      "    \n",
      "    mnames = ['movie_id', 'title','genres']\n",
      "    movies = pd.read_table(os.path.join('data', 'movies.dat'), \n",
      "                           sep='::', header=None, names=mnames)\n",
      "\n",
      "    return users, ratings, movies"
     ],
     "language": "python",
     "metadata": {},
     "outputs": [],
     "prompt_number": 2
    },
    {
     "cell_type": "code",
     "collapsed": false,
     "input": [
      "users, ratings, movies = get_movie_data()"
     ],
     "language": "python",
     "metadata": {},
     "outputs": [],
     "prompt_number": 3
    },
    {
     "cell_type": "code",
     "collapsed": false,
     "input": [
      "print users.head()"
     ],
     "language": "python",
     "metadata": {},
     "outputs": [
      {
       "output_type": "stream",
       "stream": "stdout",
       "text": [
        "   user_id gender  age  occupation    zip\n",
        "0        1      F    1          10  48067\n",
        "1        2      M   56          16  70072\n",
        "2        3      M   25          15  55117\n",
        "3        4      M   45           7  02460\n",
        "4        5      M   25          20  55455\n",
        "\n",
        "[5 rows x 5 columns]\n"
       ]
      }
     ],
     "prompt_number": 4
    },
    {
     "cell_type": "code",
     "collapsed": false,
     "input": [
      "print ratings.head()"
     ],
     "language": "python",
     "metadata": {},
     "outputs": [
      {
       "output_type": "stream",
       "stream": "stdout",
       "text": [
        "   user_id  movie_id  rating  timestamp\n",
        "0        1      1193       5  978300760\n",
        "1        1       661       3  978302109\n",
        "2        1       914       3  978301968\n",
        "3        1      3408       4  978300275\n",
        "4        1      2355       5  978824291\n",
        "\n",
        "[5 rows x 4 columns]\n"
       ]
      }
     ],
     "prompt_number": 5
    },
    {
     "cell_type": "code",
     "collapsed": false,
     "input": [
      "print movies.head()"
     ],
     "language": "python",
     "metadata": {},
     "outputs": [
      {
       "output_type": "stream",
       "stream": "stdout",
       "text": [
        "   movie_id                               title                        genres\n",
        "0         1                    Toy Story (1995)   Animation|Children's|Comedy\n",
        "1         2                      Jumanji (1995)  Adventure|Children's|Fantasy\n",
        "2         3             Grumpier Old Men (1995)                Comedy|Romance\n",
        "3         4            Waiting to Exhale (1995)                  Comedy|Drama\n",
        "4         5  Father of the Bride Part II (1995)                        Comedy\n",
        "\n",
        "[5 rows x 3 columns]\n"
       ]
      }
     ],
     "prompt_number": 6
    },
    {
     "cell_type": "markdown",
     "metadata": {},
     "source": [
      "### Clean up the `movies`\n",
      "\n",
      "- Get the `year`\n",
      "- Shorten the `title`\n",
      "\n",
      "This is dense code. Skip."
     ]
    },
    {
     "cell_type": "code",
     "collapsed": false,
     "input": [
      "tmp = movies.title.str.match('(.*) \\(([0-9]+)\\)')\n",
      "movies['year'] = tmp.map(lambda x: int(x[1]) if len(x) > 0 else None)\n",
      "movies['short_title'] = tmp.map(lambda x: x[0][:40] if len(x) > 0 else None)"
     ],
     "language": "python",
     "metadata": {},
     "outputs": [],
     "prompt_number": 24
    },
    {
     "cell_type": "markdown",
     "metadata": {},
     "source": [
      "### Join the tables with `pd.merge`"
     ]
    },
    {
     "cell_type": "code",
     "collapsed": false,
     "input": [
      "data = pd.merge(pd.merge(ratings, users), movies)"
     ],
     "language": "python",
     "metadata": {},
     "outputs": [],
     "prompt_number": 31
    },
    {
     "cell_type": "code",
     "collapsed": false,
     "input": [
      "for c in data.columns:\n",
      "    print c"
     ],
     "language": "python",
     "metadata": {},
     "outputs": [
      {
       "output_type": "stream",
       "stream": "stdout",
       "text": [
        "user_id\n",
        "movie_id\n",
        "rating\n",
        "timestamp\n",
        "gender\n",
        "age\n",
        "occupation\n",
        "zip\n",
        "title\n",
        "genres\n",
        "year\n",
        "short_title\n"
       ]
      }
     ],
     "prompt_number": 32
    },
    {
     "cell_type": "heading",
     "level": 3,
     "metadata": {},
     "source": [
      "How many movies per year?"
     ]
    },
    {
     "cell_type": "code",
     "collapsed": false,
     "input": [
      "count_by_year = movies[['year']].groupby('year').count()"
     ],
     "language": "python",
     "metadata": {},
     "outputs": [],
     "prompt_number": 50
    },
    {
     "cell_type": "code",
     "collapsed": false,
     "input": [
      "%matplotlib inline\n",
      "count_by_year.plot()"
     ],
     "language": "python",
     "metadata": {},
     "outputs": [
      {
       "metadata": {},
       "output_type": "pyout",
       "prompt_number": 51,
       "text": [
        "<matplotlib.axes.AxesSubplot at 0x10706a650>"
       ]
      },
      {
       "metadata": {},
       "output_type": "display_data",
       "png": "[encoded data removed]",
       "text": [
        "<matplotlib.figure.Figure at 0x10463e690>"
       ]
      }
     ],
     "prompt_number": 51
    },
    {
     "cell_type": "heading",
     "level": 3,
     "metadata": {},
     "source": [
      "Ratings over time?"
     ]
    },
    {
     "cell_type": "code",
     "collapsed": false,
     "input": [
      "ratings_time = data[['year','rating']].groupby('year').mean()\n",
      "ratings_time.plot()"
     ],
     "language": "python",
     "metadata": {},
     "outputs": [
      {
       "metadata": {},
       "output_type": "pyout",
       "prompt_number": 52,
       "text": [
        "<matplotlib.axes.AxesSubplot at 0x10707d850>"
       ]
      },
      {
       "metadata": {},
       "output_type": "display_data",
       "png": "[encoded data removed]",
       "text": [
        "<matplotlib.figure.Figure at 0x107d16d10>"
       ]
      }
     ],
     "prompt_number": 52
    },
    {
     "cell_type": "code",
     "collapsed": false,
     "input": [
      "ratings_time = data[['year','rating']].groupby('year').agg(['mean','std'])\n",
      "ratings_time.plot()"
     ],
     "language": "python",
     "metadata": {},
     "outputs": [
      {
       "metadata": {},
       "output_type": "pyout",
       "prompt_number": 53,
       "text": [
        "<matplotlib.axes.AxesSubplot at 0x10b878e50>"
       ]
      },
      {
       "metadata": {},
       "output_type": "display_data",
       "png": "[encoded data removed]",
       "text": [
        "<matplotlib.figure.Figure at 0x10bdb0fd0>"
       ]
      }
     ],
     "prompt_number": 53
    },
    {
     "cell_type": "code",
     "collapsed": false,
     "input": [
      "dec = range(1910, 2010, 10)\n",
      "buckets = pd.cut(movies['year'], dec)\n",
      "movies.groupby(buckets).size()"
     ],
     "language": "python",
     "metadata": {},
     "outputs": [
      {
       "metadata": {},
       "output_type": "pyout",
       "prompt_number": 54,
       "text": [
        "year\n",
        "(1910, 1920]       5\n",
        "(1920, 1930]      39\n",
        "(1930, 1940]      89\n",
        "(1940, 1950]     121\n",
        "(1950, 1960]     169\n",
        "(1960, 1970]     192\n",
        "(1970, 1980]     272\n",
        "(1980, 1990]     633\n",
        "(1990, 2000]    2362\n",
        "dtype: int64"
       ]
      }
     ],
     "prompt_number": 54
    },
    {
     "cell_type": "code",
     "collapsed": false,
     "input": [
      "movies.groupby(buckets).size().plot(kind='barh')"
     ],
     "language": "python",
     "metadata": {},
     "outputs": [
      {
       "metadata": {},
       "output_type": "pyout",
       "prompt_number": 55,
       "text": [
        "<matplotlib.axes.AxesSubplot at 0x109c5e6d0>"
       ]
      },
      {
       "metadata": {},
       "output_type": "display_data",
       "png": "[encoded data removed]",
       "text": [
        "<matplotlib.figure.Figure at 0x10bd86e90>"
       ]
      }
     ],
     "prompt_number": 55
    },
    {
     "cell_type": "heading",
     "level": 3,
     "metadata": {},
     "source": [
      "Genres"
     ]
    },
    {
     "cell_type": "code",
     "collapsed": false,
     "input": [
      "tmp = []\n",
      "\n",
      "for y, t, gen in zip(movies['year'], movies['short_title'], movies['genres']):\n",
      "    for g in gen.split('|'):\n",
      "        tmp.append((y, t, g))       "
     ],
     "language": "python",
     "metadata": {},
     "outputs": [],
     "prompt_number": 56
    },
    {
     "cell_type": "code",
     "collapsed": false,
     "input": [
      "gen = pd.DataFrame(tmp, columns=['year', 'title', 'genre'])\n",
      "gen.head()"
     ],
     "language": "python",
     "metadata": {},
     "outputs": [
      {
       "html": [
        "<div style=\"max-height:1000px;max-width:1500px;overflow:auto;\">\n",
        "<table border=\"1\" class=\"dataframe\">\n",
        "  <thead>\n",
        "    <tr style=\"text-align: right;\">\n",
        "      <th></th>\n",
        "      <th>year</th>\n",
        "      <th>title</th>\n",
        "      <th>genre</th>\n",
        "    </tr>\n",
        "  </thead>\n",
        "  <tbody>\n",
        "    <tr>\n",
        "      <th>0</th>\n",
        "      <td> 1995</td>\n",
        "      <td> Toy Story</td>\n",
        "      <td>  Animation</td>\n",
        "    </tr>\n",
        "    <tr>\n",
        "      <th>1</th>\n",
        "      <td> 1995</td>\n",
        "      <td> Toy Story</td>\n",
        "      <td> Children's</td>\n",
        "    </tr>\n",
        "    <tr>\n",
        "      <th>2</th>\n",
        "      <td> 1995</td>\n",
        "      <td> Toy Story</td>\n",
        "      <td>     Comedy</td>\n",
        "    </tr>\n",
        "    <tr>\n",
        "      <th>3</th>\n",
        "      <td> 1995</td>\n",
        "      <td>   Jumanji</td>\n",
        "      <td>  Adventure</td>\n",
        "    </tr>\n",
        "    <tr>\n",
        "      <th>4</th>\n",
        "      <td> 1995</td>\n",
        "      <td>   Jumanji</td>\n",
        "      <td> Children's</td>\n",
        "    </tr>\n",
        "  </tbody>\n",
        "</table>\n",
        "<p>5 rows \u00d7 3 columns</p>\n",
        "</div>"
       ],
       "metadata": {},
       "output_type": "pyout",
       "prompt_number": 57,
       "text": [
        "   year      title       genre\n",
        "0  1995  Toy Story   Animation\n",
        "1  1995  Toy Story  Children's\n",
        "2  1995  Toy Story      Comedy\n",
        "3  1995    Jumanji   Adventure\n",
        "4  1995    Jumanji  Children's\n",
        "\n",
        "[5 rows x 3 columns]"
       ]
      }
     ],
     "prompt_number": 57
    },
    {
     "cell_type": "code",
     "collapsed": false,
     "input": [
      "gen[['year','title','genre']].groupby(['year','title']).count().sort('genre', ascending=False).head()"
     ],
     "language": "python",
     "metadata": {},
     "outputs": [
      {
       "html": [
        "<div style=\"max-height:1000px;max-width:1500px;overflow:auto;\">\n",
        "<table border=\"1\" class=\"dataframe\">\n",
        "  <thead>\n",
        "    <tr style=\"text-align: right;\">\n",
        "      <th></th>\n",
        "      <th></th>\n",
        "      <th>year</th>\n",
        "      <th>title</th>\n",
        "      <th>genre</th>\n",
        "    </tr>\n",
        "    <tr>\n",
        "      <th>year</th>\n",
        "      <th>title</th>\n",
        "      <th></th>\n",
        "      <th></th>\n",
        "      <th></th>\n",
        "    </tr>\n",
        "  </thead>\n",
        "  <tbody>\n",
        "    <tr>\n",
        "      <th>1986</th>\n",
        "      <th>Transformers: The Movie, The</th>\n",
        "      <td> 6</td>\n",
        "      <td> 6</td>\n",
        "      <td> 6</td>\n",
        "    </tr>\n",
        "    <tr>\n",
        "      <th>1983</th>\n",
        "      <th>Star Wars: Episode VI - Return of the Je</th>\n",
        "      <td> 5</td>\n",
        "      <td> 5</td>\n",
        "      <td> 5</td>\n",
        "    </tr>\n",
        "    <tr>\n",
        "      <th>1980</th>\n",
        "      <th>Star Wars: Episode V - The Empire Strike</th>\n",
        "      <td> 5</td>\n",
        "      <td> 5</td>\n",
        "      <td> 5</td>\n",
        "    </tr>\n",
        "    <tr>\n",
        "      <th>1997</th>\n",
        "      <th>Hercules</th>\n",
        "      <td> 5</td>\n",
        "      <td> 5</td>\n",
        "      <td> 5</td>\n",
        "    </tr>\n",
        "    <tr>\n",
        "      <th>1955</th>\n",
        "      <th>Lady and the Tramp</th>\n",
        "      <td> 5</td>\n",
        "      <td> 5</td>\n",
        "      <td> 5</td>\n",
        "    </tr>\n",
        "  </tbody>\n",
        "</table>\n",
        "<p>5 rows \u00d7 3 columns</p>\n",
        "</div>"
       ],
       "metadata": {},
       "output_type": "pyout",
       "prompt_number": 58,
       "text": [
        "                                               year  title  genre\n",
        "year title                                                       \n",
        "1986 Transformers: The Movie, The                 6      6      6\n",
        "1983 Star Wars: Episode VI - Return of the Je     5      5      5\n",
        "1980 Star Wars: Episode V - The Empire Strike     5      5      5\n",
        "1997 Hercules                                     5      5      5\n",
        "1955 Lady and the Tramp                           5      5      5\n",
        "\n",
        "[5 rows x 3 columns]"
       ]
      }
     ],
     "prompt_number": 58
    },
    {
     "cell_type": "heading",
     "level": 3,
     "metadata": {},
     "source": [
      "Highest Rated Movie"
     ]
    },
    {
     "cell_type": "code",
     "collapsed": false,
     "input": [
      "cols = ['rating','short_title']\n",
      "df = data[cols]\n",
      "df.shape"
     ],
     "language": "python",
     "metadata": {},
     "outputs": [
      {
       "metadata": {},
       "output_type": "pyout",
       "prompt_number": 59,
       "text": [
        "(1000209, 2)"
       ]
      }
     ],
     "prompt_number": 59
    },
    {
     "cell_type": "code",
     "collapsed": false,
     "input": [
      "df.head()"
     ],
     "language": "python",
     "metadata": {},
     "outputs": [
      {
       "html": [
        "<div style=\"max-height:1000px;max-width:1500px;overflow:auto;\">\n",
        "<table border=\"1\" class=\"dataframe\">\n",
        "  <thead>\n",
        "    <tr style=\"text-align: right;\">\n",
        "      <th></th>\n",
        "      <th>rating</th>\n",
        "      <th>short_title</th>\n",
        "    </tr>\n",
        "  </thead>\n",
        "  <tbody>\n",
        "    <tr>\n",
        "      <th>0</th>\n",
        "      <td> 5</td>\n",
        "      <td> One Flew Over the Cuckoo's Nest</td>\n",
        "    </tr>\n",
        "    <tr>\n",
        "      <th>1</th>\n",
        "      <td> 5</td>\n",
        "      <td> One Flew Over the Cuckoo's Nest</td>\n",
        "    </tr>\n",
        "    <tr>\n",
        "      <th>2</th>\n",
        "      <td> 4</td>\n",
        "      <td> One Flew Over the Cuckoo's Nest</td>\n",
        "    </tr>\n",
        "    <tr>\n",
        "      <th>3</th>\n",
        "      <td> 4</td>\n",
        "      <td> One Flew Over the Cuckoo's Nest</td>\n",
        "    </tr>\n",
        "    <tr>\n",
        "      <th>4</th>\n",
        "      <td> 5</td>\n",
        "      <td> One Flew Over the Cuckoo's Nest</td>\n",
        "    </tr>\n",
        "  </tbody>\n",
        "</table>\n",
        "<p>5 rows \u00d7 2 columns</p>\n",
        "</div>"
       ],
       "metadata": {},
       "output_type": "pyout",
       "prompt_number": 60,
       "text": [
        "   rating                      short_title\n",
        "0       5  One Flew Over the Cuckoo's Nest\n",
        "1       5  One Flew Over the Cuckoo's Nest\n",
        "2       4  One Flew Over the Cuckoo's Nest\n",
        "3       4  One Flew Over the Cuckoo's Nest\n",
        "4       5  One Flew Over the Cuckoo's Nest\n",
        "\n",
        "[5 rows x 2 columns]"
       ]
      }
     ],
     "prompt_number": 60
    },
    {
     "cell_type": "code",
     "collapsed": false,
     "input": [
      "grp = df.groupby('short_title')\n",
      "type(grp)"
     ],
     "language": "python",
     "metadata": {},
     "outputs": [
      {
       "metadata": {},
       "output_type": "pyout",
       "prompt_number": 61,
       "text": [
        "pandas.core.groupby.DataFrameGroupBy"
       ]
      }
     ],
     "prompt_number": 61
    },
    {
     "cell_type": "code",
     "collapsed": false,
     "input": [
      "print grp.mean().sort('rating', ascending=False).head(10)"
     ],
     "language": "python",
     "metadata": {},
     "outputs": [
      {
       "output_type": "stream",
       "stream": "stdout",
       "text": [
        "                                    rating\n",
        "short_title                               \n",
        "Ulysses (Ulisse)                         5\n",
        "Schlafes Bruder (Brother of Sleep)       5\n",
        "Smashing Time                            5\n",
        "Song of Freedom                          5\n",
        "Gate of Heavenly Peace, The              5\n",
        "Lured                                    5\n",
        "Baby, The                                5\n",
        "Bittersweet Motel                        5\n",
        "Follow the Bitch                         5\n",
        "One Little Indian                        5\n",
        "\n",
        "[10 rows x 1 columns]\n"
       ]
      }
     ],
     "prompt_number": 62
    },
    {
     "cell_type": "code",
     "collapsed": false,
     "input": [
      "print grp.agg(['mean','count'])['rating'].sort('mean', ascending=False).head(10)"
     ],
     "language": "python",
     "metadata": {},
     "outputs": [
      {
       "output_type": "stream",
       "stream": "stdout",
       "text": [
        "                                    mean  count\n",
        "short_title                                    \n",
        "Ulysses (Ulisse)                       5      1\n",
        "Schlafes Bruder (Brother of Sleep)     5      1\n",
        "Smashing Time                          5      2\n",
        "Song of Freedom                        5      1\n",
        "Gate of Heavenly Peace, The            5      3\n",
        "Lured                                  5      1\n",
        "Baby, The                              5      1\n",
        "Bittersweet Motel                      5      1\n",
        "Follow the Bitch                       5      1\n",
        "One Little Indian                      5      1\n",
        "\n",
        "[10 rows x 2 columns]\n"
       ]
      }
     ],
     "prompt_number": 63
    },
    {
     "cell_type": "code",
     "collapsed": false,
     "input": [
      "mean_ratings = grp.agg(['mean','count'])['rating']\n",
      "mask = mean_ratings['count'] > 1000\n",
      "mean_ratings[mask].count()"
     ],
     "language": "python",
     "metadata": {},
     "outputs": [
      {
       "metadata": {},
       "output_type": "pyout",
       "prompt_number": 84,
       "text": [
        "mean     210\n",
        "count    210\n",
        "dtype: int64"
       ]
      }
     ],
     "prompt_number": 84
    },
    {
     "cell_type": "code",
     "collapsed": false,
     "input": [
      "mean_ratings.count()"
     ],
     "language": "python",
     "metadata": {},
     "outputs": [
      {
       "metadata": {},
       "output_type": "pyout",
       "prompt_number": 85,
       "text": [
        "mean     3664\n",
        "count    3664\n",
        "dtype: int64"
       ]
      }
     ],
     "prompt_number": 85
    },
    {
     "cell_type": "code",
     "collapsed": false,
     "input": [
      "print mean_ratings[mask].sort('mean', ascending=False).head(10)"
     ],
     "language": "python",
     "metadata": {},
     "outputs": [
      {
       "output_type": "stream",
       "stream": "stdout",
       "text": [
        "                                              mean  count\n",
        "short_title                                              \n",
        "Shawshank Redemption, The                 4.554558   2227\n",
        "Godfather, The                            4.524966   2223\n",
        "Usual Suspects, The                       4.517106   1783\n",
        "Schindler's List                          4.510417   2304\n",
        "Raiders of the Lost Ark                   4.477725   2514\n",
        "Rear Window                               4.476190   1050\n",
        "Star Wars: Episode IV - A New Hope        4.453694   2991\n",
        "Dr. Strangelove or: How I Learned to Sto  4.449890   1367\n",
        "Casablanca                                4.412822   1669\n",
        "Sixth Sense, The                          4.406263   2459\n",
        "\n",
        "[10 rows x 2 columns]\n"
       ]
      }
     ],
     "prompt_number": 86
    },
    {
     "cell_type": "heading",
     "level": 3,
     "metadata": {},
     "source": [
      "Ratings by Gender"
     ]
    },
    {
     "cell_type": "code",
     "collapsed": false,
     "input": [
      "df = pd.pivot_table(data, values='rating', rows='short_title',cols='gender',aggfunc='mean')"
     ],
     "language": "python",
     "metadata": {},
     "outputs": [],
     "prompt_number": 87
    },
    {
     "cell_type": "code",
     "collapsed": false,
     "input": [
      "df.head()"
     ],
     "language": "python",
     "metadata": {},
     "outputs": [
      {
       "html": [
        "<div style=\"max-height:1000px;max-width:1500px;overflow:auto;\">\n",
        "<table border=\"1\" class=\"dataframe\">\n",
        "  <thead>\n",
        "    <tr style=\"text-align: right;\">\n",
        "      <th>gender</th>\n",
        "      <th>F</th>\n",
        "      <th>M</th>\n",
        "    </tr>\n",
        "    <tr>\n",
        "      <th>short_title</th>\n",
        "      <th></th>\n",
        "      <th></th>\n",
        "    </tr>\n",
        "  </thead>\n",
        "  <tbody>\n",
        "    <tr>\n",
        "      <th>$1,000,000 Duck</th>\n",
        "      <td> 3.375000</td>\n",
        "      <td> 2.761905</td>\n",
        "    </tr>\n",
        "    <tr>\n",
        "      <th>'Night Mother</th>\n",
        "      <td> 3.388889</td>\n",
        "      <td> 3.352941</td>\n",
        "    </tr>\n",
        "    <tr>\n",
        "      <th>'Til There Was You</th>\n",
        "      <td> 2.675676</td>\n",
        "      <td> 2.733333</td>\n",
        "    </tr>\n",
        "    <tr>\n",
        "      <th>'burbs, The</th>\n",
        "      <td> 2.793478</td>\n",
        "      <td> 2.962085</td>\n",
        "    </tr>\n",
        "    <tr>\n",
        "      <th>...And Justice for All</th>\n",
        "      <td> 3.828571</td>\n",
        "      <td> 3.689024</td>\n",
        "    </tr>\n",
        "  </tbody>\n",
        "</table>\n",
        "<p>5 rows \u00d7 2 columns</p>\n",
        "</div>"
       ],
       "metadata": {},
       "output_type": "pyout",
       "prompt_number": 88,
       "text": [
        "gender                         F         M\n",
        "short_title                               \n",
        "$1,000,000 Duck         3.375000  2.761905\n",
        "'Night Mother           3.388889  3.352941\n",
        "'Til There Was You      2.675676  2.733333\n",
        "'burbs, The             2.793478  2.962085\n",
        "...And Justice for All  3.828571  3.689024\n",
        "\n",
        "[5 rows x 2 columns]"
       ]
      }
     ],
     "prompt_number": 88
    },
    {
     "cell_type": "code",
     "collapsed": false,
     "input": [
      "df.ix[mask].sort('M', ascending=False).head(10)"
     ],
     "language": "python",
     "metadata": {},
     "outputs": [
      {
       "html": [
        "<div style=\"max-height:1000px;max-width:1500px;overflow:auto;\">\n",
        "<table border=\"1\" class=\"dataframe\">\n",
        "  <thead>\n",
        "    <tr style=\"text-align: right;\">\n",
        "      <th>gender</th>\n",
        "      <th>F</th>\n",
        "      <th>M</th>\n",
        "    </tr>\n",
        "    <tr>\n",
        "      <th>short_title</th>\n",
        "      <th></th>\n",
        "      <th></th>\n",
        "    </tr>\n",
        "  </thead>\n",
        "  <tbody>\n",
        "    <tr>\n",
        "      <th>Godfather, The</th>\n",
        "      <td> 4.314700</td>\n",
        "      <td> 4.583333</td>\n",
        "    </tr>\n",
        "    <tr>\n",
        "      <th>Shawshank Redemption, The</th>\n",
        "      <td> 4.539075</td>\n",
        "      <td> 4.560625</td>\n",
        "    </tr>\n",
        "    <tr>\n",
        "      <th>Raiders of the Lost Ark</th>\n",
        "      <td> 4.332168</td>\n",
        "      <td> 4.520597</td>\n",
        "    </tr>\n",
        "    <tr>\n",
        "      <th>Usual Suspects, The</th>\n",
        "      <td> 4.513317</td>\n",
        "      <td> 4.518248</td>\n",
        "    </tr>\n",
        "    <tr>\n",
        "      <th>Star Wars: Episode IV - A New Hope</th>\n",
        "      <td> 4.302937</td>\n",
        "      <td> 4.495307</td>\n",
        "    </tr>\n",
        "    <tr>\n",
        "      <th>Schindler's List</th>\n",
        "      <td> 4.562602</td>\n",
        "      <td> 4.491415</td>\n",
        "    </tr>\n",
        "    <tr>\n",
        "      <th>Rear Window</th>\n",
        "      <td> 4.484536</td>\n",
        "      <td> 4.472991</td>\n",
        "    </tr>\n",
        "    <tr>\n",
        "      <th>Dr. Strangelove or: How I Learned to Sto</th>\n",
        "      <td> 4.376623</td>\n",
        "      <td> 4.464789</td>\n",
        "    </tr>\n",
        "    <tr>\n",
        "      <th>Casablanca</th>\n",
        "      <td> 4.300990</td>\n",
        "      <td> 4.461340</td>\n",
        "    </tr>\n",
        "    <tr>\n",
        "      <th>Godfather: Part II, The</th>\n",
        "      <td> 4.040936</td>\n",
        "      <td> 4.437778</td>\n",
        "    </tr>\n",
        "  </tbody>\n",
        "</table>\n",
        "<p>10 rows \u00d7 2 columns</p>\n",
        "</div>"
       ],
       "metadata": {},
       "output_type": "pyout",
       "prompt_number": 89,
       "text": [
        "gender                                           F         M\n",
        "short_title                                                 \n",
        "Godfather, The                            4.314700  4.583333\n",
        "Shawshank Redemption, The                 4.539075  4.560625\n",
        "Raiders of the Lost Ark                   4.332168  4.520597\n",
        "Usual Suspects, The                       4.513317  4.518248\n",
        "Star Wars: Episode IV - A New Hope        4.302937  4.495307\n",
        "Schindler's List                          4.562602  4.491415\n",
        "Rear Window                               4.484536  4.472991\n",
        "Dr. Strangelove or: How I Learned to Sto  4.376623  4.464789\n",
        "Casablanca                                4.300990  4.461340\n",
        "Godfather: Part II, The                   4.040936  4.437778\n",
        "\n",
        "[10 rows x 2 columns]"
       ]
      }
     ],
     "prompt_number": 89
    },
    {
     "cell_type": "code",
     "collapsed": false,
     "input": [
      "df.ix[mask].sort('F', ascending=False).head(10)"
     ],
     "language": "python",
     "metadata": {},
     "outputs": [
      {
       "html": [
        "<div style=\"max-height:1000px;max-width:1500px;overflow:auto;\">\n",
        "<table border=\"1\" class=\"dataframe\">\n",
        "  <thead>\n",
        "    <tr style=\"text-align: right;\">\n",
        "      <th>gender</th>\n",
        "      <th>F</th>\n",
        "      <th>M</th>\n",
        "    </tr>\n",
        "    <tr>\n",
        "      <th>short_title</th>\n",
        "      <th></th>\n",
        "      <th></th>\n",
        "    </tr>\n",
        "  </thead>\n",
        "  <tbody>\n",
        "    <tr>\n",
        "      <th>Schindler's List</th>\n",
        "      <td> 4.562602</td>\n",
        "      <td> 4.491415</td>\n",
        "    </tr>\n",
        "    <tr>\n",
        "      <th>Shawshank Redemption, The</th>\n",
        "      <td> 4.539075</td>\n",
        "      <td> 4.560625</td>\n",
        "    </tr>\n",
        "    <tr>\n",
        "      <th>Usual Suspects, The</th>\n",
        "      <td> 4.513317</td>\n",
        "      <td> 4.518248</td>\n",
        "    </tr>\n",
        "    <tr>\n",
        "      <th>Rear Window</th>\n",
        "      <td> 4.484536</td>\n",
        "      <td> 4.472991</td>\n",
        "    </tr>\n",
        "    <tr>\n",
        "      <th>Sixth Sense, The</th>\n",
        "      <td> 4.477410</td>\n",
        "      <td> 4.379944</td>\n",
        "    </tr>\n",
        "    <tr>\n",
        "      <th>Life Is Beautiful (La Vita \ufffd bella)</th>\n",
        "      <td> 4.422343</td>\n",
        "      <td> 4.286624</td>\n",
        "    </tr>\n",
        "    <tr>\n",
        "      <th>Dr. Strangelove or: How I Learned to Sto</th>\n",
        "      <td> 4.376623</td>\n",
        "      <td> 4.464789</td>\n",
        "    </tr>\n",
        "    <tr>\n",
        "      <th>North by Northwest</th>\n",
        "      <td> 4.364458</td>\n",
        "      <td> 4.390641</td>\n",
        "    </tr>\n",
        "    <tr>\n",
        "      <th>Wizard of Oz, The</th>\n",
        "      <td> 4.355030</td>\n",
        "      <td> 4.203138</td>\n",
        "    </tr>\n",
        "    <tr>\n",
        "      <th>Amadeus</th>\n",
        "      <td> 4.346734</td>\n",
        "      <td> 4.213415</td>\n",
        "    </tr>\n",
        "  </tbody>\n",
        "</table>\n",
        "<p>10 rows \u00d7 2 columns</p>\n",
        "</div>"
       ],
       "metadata": {},
       "output_type": "pyout",
       "prompt_number": 90,
       "text": [
        "gender                                           F         M\n",
        "short_title                                                 \n",
        "Schindler's List                          4.562602  4.491415\n",
        "Shawshank Redemption, The                 4.539075  4.560625\n",
        "Usual Suspects, The                       4.513317  4.518248\n",
        "Rear Window                               4.484536  4.472991\n",
        "Sixth Sense, The                          4.477410  4.379944\n",
        "Life Is Beautiful (La Vita \ufffd bella)       4.422343  4.286624\n",
        "Dr. Strangelove or: How I Learned to Sto  4.376623  4.464789\n",
        "North by Northwest                        4.364458  4.390641\n",
        "Wizard of Oz, The                         4.355030  4.203138\n",
        "Amadeus                                   4.346734  4.213415\n",
        "\n",
        "[10 rows x 2 columns]"
       ]
      }
     ],
     "prompt_number": 90
    },
    {
     "cell_type": "code",
     "collapsed": false,
     "input": [
      "df['diff'] = abs(df['M']-df['F'])"
     ],
     "language": "python",
     "metadata": {},
     "outputs": [],
     "prompt_number": 91
    },
    {
     "cell_type": "code",
     "collapsed": false,
     "input": [
      "mean_ratings = df.ix[mask].sort('diff', ascending=True)"
     ],
     "language": "python",
     "metadata": {},
     "outputs": [],
     "prompt_number": 106
    },
    {
     "cell_type": "code",
     "collapsed": false,
     "input": [
      "diff_mask = mean_ratings['diff'] < 0.1 \n",
      "m_mask = mean_ratings['M'] > 4.25\n",
      "f_mask = mean_ratings['F'] > 4.25"
     ],
     "language": "python",
     "metadata": {},
     "outputs": [],
     "prompt_number": 116
    },
    {
     "cell_type": "code",
     "collapsed": false,
     "input": [
      "mask = diff_mask & m_mask & f_mask"
     ],
     "language": "python",
     "metadata": {},
     "outputs": [],
     "prompt_number": 117
    },
    {
     "cell_type": "code",
     "collapsed": false,
     "input": [
      "mask.head()"
     ],
     "language": "python",
     "metadata": {},
     "outputs": [
      {
       "metadata": {},
       "output_type": "pyout",
       "prompt_number": 118,
       "text": [
        "short_title\n",
        "Jerry Maguire                           False\n",
        "Indiana Jones and the Temple of Doom    False\n",
        "Good Will Hunting                       False\n",
        "Fugitive, The                           False\n",
        "Batman Returns                          False\n",
        "dtype: bool"
       ]
      }
     ],
     "prompt_number": 118
    },
    {
     "cell_type": "code",
     "collapsed": false,
     "input": [
      "mean_ratings['ave'] = mean_ratings['F'] + mean_ratings['M']\n",
      "mean_ratings.ix[mask].sort('ave', ascending=False)"
     ],
     "language": "python",
     "metadata": {},
     "outputs": [
      {
       "html": [
        "<div style=\"max-height:1000px;max-width:1500px;overflow:auto;\">\n",
        "<table border=\"1\" class=\"dataframe\">\n",
        "  <thead>\n",
        "    <tr style=\"text-align: right;\">\n",
        "      <th>gender</th>\n",
        "      <th>F</th>\n",
        "      <th>M</th>\n",
        "      <th>diff</th>\n",
        "      <th>ave</th>\n",
        "    </tr>\n",
        "    <tr>\n",
        "      <th>short_title</th>\n",
        "      <th></th>\n",
        "      <th></th>\n",
        "      <th></th>\n",
        "      <th></th>\n",
        "    </tr>\n",
        "  </thead>\n",
        "  <tbody>\n",
        "    <tr>\n",
        "      <th>Shawshank Redemption, The</th>\n",
        "      <td> 4.539075</td>\n",
        "      <td> 4.560625</td>\n",
        "      <td> 0.021550</td>\n",
        "      <td> 9.099700</td>\n",
        "    </tr>\n",
        "    <tr>\n",
        "      <th>Schindler's List</th>\n",
        "      <td> 4.562602</td>\n",
        "      <td> 4.491415</td>\n",
        "      <td> 0.071187</td>\n",
        "      <td> 9.054017</td>\n",
        "    </tr>\n",
        "    <tr>\n",
        "      <th>Usual Suspects, The</th>\n",
        "      <td> 4.513317</td>\n",
        "      <td> 4.518248</td>\n",
        "      <td> 0.004931</td>\n",
        "      <td> 9.031565</td>\n",
        "    </tr>\n",
        "    <tr>\n",
        "      <th>Rear Window</th>\n",
        "      <td> 4.484536</td>\n",
        "      <td> 4.472991</td>\n",
        "      <td> 0.011545</td>\n",
        "      <td> 8.957527</td>\n",
        "    </tr>\n",
        "    <tr>\n",
        "      <th>Sixth Sense, The</th>\n",
        "      <td> 4.477410</td>\n",
        "      <td> 4.379944</td>\n",
        "      <td> 0.097465</td>\n",
        "      <td> 8.857354</td>\n",
        "    </tr>\n",
        "    <tr>\n",
        "      <th>Dr. Strangelove or: How I Learned to Sto</th>\n",
        "      <td> 4.376623</td>\n",
        "      <td> 4.464789</td>\n",
        "      <td> 0.088165</td>\n",
        "      <td> 8.841412</td>\n",
        "    </tr>\n",
        "    <tr>\n",
        "      <th>Maltese Falcon, The</th>\n",
        "      <td> 4.344681</td>\n",
        "      <td> 4.410891</td>\n",
        "      <td> 0.066210</td>\n",
        "      <td> 8.755572</td>\n",
        "    </tr>\n",
        "    <tr>\n",
        "      <th>North by Northwest</th>\n",
        "      <td> 4.364458</td>\n",
        "      <td> 4.390641</td>\n",
        "      <td> 0.026183</td>\n",
        "      <td> 8.755099</td>\n",
        "    </tr>\n",
        "    <tr>\n",
        "      <th>Citizen Kane</th>\n",
        "      <td> 4.332143</td>\n",
        "      <td> 4.407895</td>\n",
        "      <td> 0.075752</td>\n",
        "      <td> 8.740038</td>\n",
        "    </tr>\n",
        "    <tr>\n",
        "      <th>Princess Bride, The</th>\n",
        "      <td> 4.342767</td>\n",
        "      <td> 4.288942</td>\n",
        "      <td> 0.053826</td>\n",
        "      <td> 8.631709</td>\n",
        "    </tr>\n",
        "  </tbody>\n",
        "</table>\n",
        "<p>10 rows \u00d7 4 columns</p>\n",
        "</div>"
       ],
       "metadata": {},
       "output_type": "pyout",
       "prompt_number": 119,
       "text": [
        "gender                                           F         M      diff  \\\n",
        "short_title                                                              \n",
        "Shawshank Redemption, The                 4.539075  4.560625  0.021550   \n",
        "Schindler's List                          4.562602  4.491415  0.071187   \n",
        "Usual Suspects, The                       4.513317  4.518248  0.004931   \n",
        "Rear Window                               4.484536  4.472991  0.011545   \n",
        "Sixth Sense, The                          4.477410  4.379944  0.097465   \n",
        "Dr. Strangelove or: How I Learned to Sto  4.376623  4.464789  0.088165   \n",
        "Maltese Falcon, The                       4.344681  4.410891  0.066210   \n",
        "North by Northwest                        4.364458  4.390641  0.026183   \n",
        "Citizen Kane                              4.332143  4.407895  0.075752   \n",
        "Princess Bride, The                       4.342767  4.288942  0.053826   \n",
        "\n",
        "gender                                         ave  \n",
        "short_title                                         \n",
        "Shawshank Redemption, The                 9.099700  \n",
        "Schindler's List                          9.054017  \n",
        "Usual Suspects, The                       9.031565  \n",
        "Rear Window                               8.957527  \n",
        "Sixth Sense, The                          8.857354  \n",
        "Dr. Strangelove or: How I Learned to Sto  8.841412  \n",
        "Maltese Falcon, The                       8.755572  \n",
        "North by Northwest                        8.755099  \n",
        "Citizen Kane                              8.740038  \n",
        "Princess Bride, The                       8.631709  \n",
        "\n",
        "[10 rows x 4 columns]"
       ]
      }
     ],
     "prompt_number": 119
    },
    {
     "cell_type": "code",
     "collapsed": false,
     "input": [],
     "language": "python",
     "metadata": {},
     "outputs": []
    }
   ],
   "metadata": {}
  }
 ]
}