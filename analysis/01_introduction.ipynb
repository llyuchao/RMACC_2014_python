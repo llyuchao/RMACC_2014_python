{
 "metadata": {
  "name": "",
  "signature": "sha256:9eb075ac717de47760d6aabeeab1ba5d1e15ff2e0b7350b16fca244994ef4798"
 },
 "nbformat": 3,
 "nbformat_minor": 0,
 "worksheets": [
  {
   "cells": [
    {
     "cell_type": "markdown",
     "metadata": {
      "slideshow": {
       "slide_type": "slide"
      }
     },
     "source": [
      "<img src='https://www.rc.colorado.edu/sites/all/themes/research/logo.png' style=\"height:75px\">"
     ]
    },
    {
     "cell_type": "heading",
     "level": 1,
     "metadata": {
      "slideshow": {
       "slide_type": "-"
      }
     },
     "source": [
      "Interactive Data Analysis with Python"
     ]
    },
    {
     "cell_type": "markdown",
     "metadata": {
      "slideshow": {
       "slide_type": "-"
      }
     },
     "source": [
      "<img src='https://s3.amazonaws.com/research_computing_tutorials/data_overview.png'></img>"
     ]
    },
    {
     "cell_type": "heading",
     "level": 2,
     "metadata": {
      "slideshow": {
       "slide_type": "slide"
      }
     },
     "source": [
      "Objectives"
     ]
    },
    {
     "cell_type": "markdown",
     "metadata": {},
     "source": [
      "- Become familiar with the **IPython Notebook**.\n",
      "- Introduce the **pandas** library.\n",
      "\n",
      "\n",
      "- How do you currently:\n",
      "    * wrangle data?\n",
      "    * visualize results?\n",
      "    * Analysis: machine learning, stats\n",
      "    * Parallel computing\n",
      "    * Big data"
     ]
    },
    {
     "cell_type": "heading",
     "level": 2,
     "metadata": {
      "slideshow": {
       "slide_type": "slide"
      }
     },
     "source": [
      "What is Python?"
     ]
    },
    {
     "cell_type": "markdown",
     "metadata": {},
     "source": [
      "<blockquote>\n",
      "<p>\n",
      "Python is a general-purpose programming language that blends procedural, functional, and object-oriented paradigms\n",
      "<p>\n",
      "Mark Lutz, <a href=\"http://www.amazon.com/Learning-Python-Edition-Mark-Lutz/dp/1449355730\">Learning Python</a>\n",
      "</blockquote>"
     ]
    },
    {
     "cell_type": "markdown",
     "metadata": {
      "slideshow": {
       "slide_type": "slide"
      }
     },
     "source": [
      "* Simple, clean syntax\n",
      "* Easy to learn\n",
      "* Interpreted\n",
      "* Strong, dynamically typed\n",
      "* Runs everywhere: Linux, Mac, and Windows\n",
      "* [Free](http://www.fsf.org/) and open\n",
      "* Expressive: do more with fewer lines of code\n",
      "* Lean: **modules**\n",
      "* Options: **Procedural**, **object-oriented**, and **functional**."
     ]
    },
    {
     "cell_type": "heading",
     "level": 3,
     "metadata": {},
     "source": [
      "Abstractions"
     ]
    },
    {
     "cell_type": "markdown",
     "metadata": {},
     "source": [
      "<img src=\"https://s3.amazonaws.com/research_computing_tutorials/matrix_multiply_compare.png\" style=\"margin:5px auto; height:400px; display:block;\">"
     ]
    },
    {
     "cell_type": "heading",
     "level": 2,
     "metadata": {
      "slideshow": {
       "slide_type": "slide"
      }
     },
     "source": [
      "IPython Notebook"
     ]
    },
    {
     "cell_type": "markdown",
     "metadata": {},
     "source": [
      "Interactive web-based computing, data analysis, and documentation.\n",
      "\n",
      "- One document for code and output\n",
      "- Run locally and remote\n",
      "- Document process\n",
      "- Share results"
     ]
    },
    {
     "cell_type": "markdown",
     "metadata": {
      "slideshow": {
       "slide_type": "-"
      }
     },
     "source": [
      "<img src='https://s3.amazonaws.com/research_computing_tutorials/traditional.png'>"
     ]
    },
    {
     "cell_type": "markdown",
     "metadata": {
      "slideshow": {
       "slide_type": "slide"
      }
     },
     "source": [
      "<img src='https://s3.amazonaws.com/research_computing_tutorials/notebook.png'>"
     ]
    },
    {
     "cell_type": "heading",
     "level": 3,
     "metadata": {
      "slideshow": {
       "slide_type": "slide"
      }
     },
     "source": [
      "Does not separate code and text"
     ]
    },
    {
     "cell_type": "markdown",
     "metadata": {},
     "source": [
      "- Data structure ouput\n",
      "- Inline plots\n",
      "- Conversation sytle programming ([Literate programming](http://en.wikipedia.org/wiki/Literate_programming))\n",
      "- Telling a data story\n",
      "\n",
      "\n",
      "- Great for *iterative* programming.\n",
      "    - Data analysis\n",
      "    - Quick scripts\n",
      "    - Prototyping"
     ]
    },
    {
     "cell_type": "heading",
     "level": 3,
     "metadata": {
      "slideshow": {
       "slide_type": "slide"
      }
     },
     "source": [
      "Locally and Remote"
     ]
    },
    {
     "cell_type": "markdown",
     "metadata": {},
     "source": [
      "- Run locally\n",
      "- Connect to the cloud (e.g [AWS](http://aws.amazon.com/))\n",
      "- Connect to supercomputer (e.g. XSEDE Resource)\n",
      "- Add compute power:\n",
      "    - [mpi4py](http://mpi4py.scipy.org/)\n",
      "    - [IPython Parallel](http://ipython.org/ipython-doc/dev/parallel/)\n",
      "    - [spark](http://spark.incubator.apache.org/) big distributed data\n",
      "    - [Numbapro](http://docs.continuum.io/numbapro/) GPU\n",
      "    - ...\n",
      "    "
     ]
    },
    {
     "cell_type": "heading",
     "level": 3,
     "metadata": {
      "slideshow": {
       "slide_type": "slide"
      }
     },
     "source": [
      "Documentation and Sharing"
     ]
    },
    {
     "cell_type": "markdown",
     "metadata": {},
     "source": [
      "<img src='https://s3.amazonaws.com/research_computing_tutorials/share.png'>"
     ]
    },
    {
     "cell_type": "heading",
     "level": 3,
     "metadata": {
      "slideshow": {
       "slide_type": "slide"
      }
     },
     "source": [
      "Keyboard Shortcuts"
     ]
    },
    {
     "cell_type": "markdown",
     "metadata": {},
     "source": [
      "<img src='https://s3.amazonaws.com/research_computing_tutorials/help.png'>"
     ]
    },
    {
     "cell_type": "heading",
     "level": 3,
     "metadata": {
      "slideshow": {
       "slide_type": "slide"
      }
     },
     "source": [
      "`Markdown` and `Latex`"
     ]
    },
    {
     "cell_type": "markdown",
     "metadata": {},
     "source": [
      "- `Markdown`\n",
      "- Latex $y = \\sqrt{a + b}$\n",
      "\n",
      "- one"
     ]
    },
    {
     "cell_type": "heading",
     "level": 3,
     "metadata": {},
     "source": [
      "Images"
     ]
    },
    {
     "cell_type": "markdown",
     "metadata": {},
     "source": [
      "    <img src='https://s3.amazonaws.com/research_computing_tutorials/monty-python.png' width=\"300\">"
     ]
    },
    {
     "cell_type": "markdown",
     "metadata": {},
     "source": [
      "This is an image:\n",
      "<img src='https://s3.amazonaws.com/research_computing_tutorials/monty-python.png' width=\"300\">"
     ]
    },
    {
     "cell_type": "heading",
     "level": 3,
     "metadata": {
      "slideshow": {
       "slide_type": "slide"
      }
     },
     "source": [
      "Video"
     ]
    },
    {
     "cell_type": "code",
     "collapsed": false,
     "input": [
      "from IPython.display import YouTubeVideo\n",
      "YouTubeVideo('F4rFuIb1Ie4', start=2400, width=600, height=400)"
     ],
     "language": "python",
     "metadata": {},
     "outputs": [
      {
       "html": [
        "\n",
        "        <iframe\n",
        "            width=\"600\"\n",
        "            height=400\"\n",
        "            src=\"https://www.youtube.com/embed/F4rFuIb1Ie4?start=2400\"\n",
        "            frameborder=\"0\"\n",
        "            allowfullscreen\n",
        "        ></iframe>\n",
        "        "
       ],
       "metadata": {},
       "output_type": "pyout",
       "prompt_number": 1,
       "text": [
        "<IPython.lib.display.YouTubeVideo at 0x10473e290>"
       ]
      }
     ],
     "prompt_number": 1
    },
    {
     "cell_type": "heading",
     "level": 3,
     "metadata": {
      "slideshow": {
       "slide_type": "slide"
      }
     },
     "source": [
      "Embeded plots"
     ]
    },
    {
     "cell_type": "code",
     "collapsed": false,
     "input": [
      "%matplotlib inline\n",
      "import matplotlib.pyplot as plt\n",
      "import utils #plot format\n",
      "reload(utils)\n",
      "import numpy as np\n",
      "x = np.random.randn(10000)"
     ],
     "language": "python",
     "metadata": {},
     "outputs": [],
     "prompt_number": 2
    },
    {
     "cell_type": "markdown",
     "metadata": {},
     "source": [
      "What does $x$ look like?"
     ]
    },
    {
     "cell_type": "code",
     "collapsed": false,
     "input": [
      "x"
     ],
     "language": "python",
     "metadata": {},
     "outputs": [
      {
       "metadata": {},
       "output_type": "pyout",
       "prompt_number": 3,
       "text": [
        "array([-1.58434326,  0.05214036, -0.15380455, ...,  0.13404652,\n",
        "        0.24362133, -1.57808357])"
       ]
      }
     ],
     "prompt_number": 3
    },
    {
     "cell_type": "code",
     "collapsed": false,
     "input": [
      "plt.hist(x, bins=50)\n",
      "plt.show()"
     ],
     "language": "python",
     "metadata": {},
     "outputs": [
      {
       "metadata": {},
       "output_type": "display_data",
       "png": "[encoded data removed]",
       "text": [
        "<matplotlib.figure.Figure at 0x104728c90>"
       ]
      }
     ],
     "prompt_number": 4
    },
    {
     "cell_type": "heading",
     "level": 3,
     "metadata": {
      "slideshow": {
       "slide_type": "slide"
      }
     },
     "source": [
      "Customizable"
     ]
    },
    {
     "cell_type": "markdown",
     "metadata": {},
     "source": [
      "- Custom `CSS`\n",
      "- Custom `javascript` libraries\n",
      "- Create your own output format.\n",
      "- Tools and workflow"
     ]
    },
    {
     "cell_type": "heading",
     "level": 3,
     "metadata": {
      "slideshow": {
       "slide_type": "slide"
      }
     },
     "source": [
      "Magic Commands"
     ]
    },
    {
     "cell_type": "markdown",
     "metadata": {},
     "source": [
      "- Built-in useful functions\n",
      "- `%` line commands\n",
      "- `%%` cell commands"
     ]
    },
    {
     "cell_type": "heading",
     "level": 3,
     "metadata": {
      "slideshow": {
       "slide_type": "slide"
      }
     },
     "source": [
      "Write to a file."
     ]
    },
    {
     "cell_type": "code",
     "collapsed": false,
     "input": [
      "%%writefile example.py\n",
      "\n",
      "def hello():\n",
      "    print 'hello'"
     ],
     "language": "python",
     "metadata": {},
     "outputs": []
    },
    {
     "cell_type": "heading",
     "level": 3,
     "metadata": {
      "slideshow": {
       "slide_type": "slide"
      }
     },
     "source": [
      "Load a file into a Notebook."
     ]
    },
    {
     "cell_type": "code",
     "collapsed": false,
     "input": [
      "%load example.py"
     ],
     "language": "python",
     "metadata": {},
     "outputs": []
    },
    {
     "cell_type": "code",
     "collapsed": false,
     "input": [
      "def hello():\n",
      "    print 'hello'"
     ],
     "language": "python",
     "metadata": {},
     "outputs": []
    },
    {
     "cell_type": "code",
     "collapsed": false,
     "input": [
      "hello()"
     ],
     "language": "python",
     "metadata": {},
     "outputs": []
    },
    {
     "cell_type": "heading",
     "level": 3,
     "metadata": {
      "slideshow": {
       "slide_type": "slide"
      }
     },
     "source": [
      "Execute a file"
     ]
    },
    {
     "cell_type": "markdown",
     "metadata": {},
     "source": [
      "Great for working with your own files."
     ]
    },
    {
     "cell_type": "code",
     "collapsed": false,
     "input": [
      "%%writefile example.py\n",
      "\n",
      "def get():\n",
      "    return 10\n",
      "    \n",
      "A = get()"
     ],
     "language": "python",
     "metadata": {},
     "outputs": []
    },
    {
     "cell_type": "code",
     "collapsed": false,
     "input": [
      "%run example.py\n",
      "\n",
      "print A"
     ],
     "language": "python",
     "metadata": {},
     "outputs": []
    },
    {
     "cell_type": "markdown",
     "metadata": {},
     "source": [
      "**Notice** that `A` is now available."
     ]
    },
    {
     "cell_type": "heading",
     "level": 3,
     "metadata": {
      "slideshow": {
       "slide_type": "slide"
      }
     },
     "source": [
      "`import` and `reload`"
     ]
    },
    {
     "cell_type": "markdown",
     "metadata": {},
     "source": [
      "Great for working with your own `modules`."
     ]
    },
    {
     "cell_type": "code",
     "collapsed": false,
     "input": [
      "import example as ex\n",
      "reload(ex)\n",
      "\n",
      "print ex.get()"
     ],
     "language": "python",
     "metadata": {},
     "outputs": []
    },
    {
     "cell_type": "heading",
     "level": 3,
     "metadata": {
      "slideshow": {
       "slide_type": "slide"
      }
     },
     "source": [
      "Other Languages: Bash"
     ]
    },
    {
     "cell_type": "code",
     "collapsed": false,
     "input": [
      "%%bash\n",
      "ls -l"
     ],
     "language": "python",
     "metadata": {},
     "outputs": []
    },
    {
     "cell_type": "code",
     "collapsed": false,
     "input": [
      "files = !ls # But glob is a better way\n",
      "print files[:5]\n"
     ],
     "language": "python",
     "metadata": {},
     "outputs": []
    },
    {
     "cell_type": "heading",
     "level": 3,
     "metadata": {
      "slideshow": {
       "slide_type": "slide"
      }
     },
     "source": [
      "Keep it all together"
     ]
    },
    {
     "cell_type": "code",
     "collapsed": false,
     "input": [
      "%%writefile example.cpp\n",
      "#include <iostream>\n",
      "\n",
      "int main(){\n",
      "    std::cout << \"hello from c++\" << std::endl;\n",
      "}"
     ],
     "language": "python",
     "metadata": {},
     "outputs": []
    },
    {
     "cell_type": "code",
     "collapsed": false,
     "input": [
      "%%bash\n",
      "g++ example.cpp -o example\n",
      "./example"
     ],
     "language": "python",
     "metadata": {},
     "outputs": []
    },
    {
     "cell_type": "heading",
     "level": 2,
     "metadata": {},
     "source": [
      "NBconvert examples"
     ]
    },
    {
     "cell_type": "markdown",
     "metadata": {},
     "source": [
      "- HTML\n",
      "- PDF (print)\n",
      "- Slides\n",
      "- Dynamic Slides\n",
      "- ReStructured Text ([sphinx](http://sphinx-doc.org/))"
     ]
    }
   ],
   "metadata": {}
  }
 ]
}