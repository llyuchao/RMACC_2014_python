{
 "metadata": {
  "name": "",
  "signature": "sha256:55cea79fcb0f8daf8a5b5b4e3a488f351f20d94fee46b3e311f74ef9754c63ce"
 },
 "nbformat": 3,
 "nbformat_minor": 0,
 "worksheets": [
  {
   "cells": [
    {
     "cell_type": "markdown",
     "metadata": {},
     "source": [
      "<img src='https://www.rc.colorado.edu/sites/all/themes/research/logo.png' style=\"height:75px\">"
     ]
    },
    {
     "cell_type": "heading",
     "level": 1,
     "metadata": {},
     "source": [
      "Quick Python Overview"
     ]
    },
    {
     "cell_type": "heading",
     "level": 2,
     "metadata": {},
     "source": [
      "Objectives"
     ]
    },
    {
     "cell_type": "markdown",
     "metadata": {},
     "source": [
      "- Review python\n",
      "- Data analysis workflow"
     ]
    },
    {
     "cell_type": "heading",
     "level": 2,
     "metadata": {
      "slideshow": {
       "slide_type": "slide"
      }
     },
     "source": [
      "Scientific Hello World"
     ]
    },
    {
     "cell_type": "code",
     "collapsed": false,
     "input": [
      "from __future__ import print_function\n",
      "import math\n",
      "r = float(\"4.2\")\n",
      "s = math.sin(r)\n",
      "print('hello world! The sin({0}) = {1:0.2f}'.format(r,s))"
     ],
     "language": "python",
     "metadata": {},
     "outputs": [
      {
       "output_type": "stream",
       "stream": "stdout",
       "text": [
        "hello world! The sin(4.2) = -0.87\n"
       ]
      }
     ],
     "prompt_number": 1
    },
    {
     "cell_type": "markdown",
     "metadata": {},
     "source": [
      "There is a lot happening here!  "
     ]
    },
    {
     "cell_type": "heading",
     "level": 2,
     "metadata": {
      "slideshow": {
       "slide_type": "slide"
      }
     },
     "source": [
      "Data Analysis Hello World"
     ]
    },
    {
     "cell_type": "heading",
     "level": 4,
     "metadata": {},
     "source": [
      "How many unique words are in Hamlet?"
     ]
    },
    {
     "cell_type": "code",
     "collapsed": false,
     "input": [
      "import os\n",
      "hamlet = os.path.join('data','hamlet.txt')\n",
      "\n",
      "with open(hamlet) as infile:\n",
      "    data = infile.read()"
     ],
     "language": "python",
     "metadata": {},
     "outputs": [],
     "prompt_number": 2
    },
    {
     "cell_type": "markdown",
     "metadata": {},
     "source": [
      "- `os.path.join`\n",
      "- `with` statement for reading (and writing) files."
     ]
    },
    {
     "cell_type": "code",
     "collapsed": false,
     "input": [
      "import re\n",
      "\n",
      "words = re.findall(r'\\w+', data.lower())\n",
      "print(words[:5])"
     ],
     "language": "python",
     "metadata": {},
     "outputs": [
      {
       "output_type": "stream",
       "stream": "stdout",
       "text": [
        "['hamlet', 'dramatis', 'personae', 'claudius', 'king']\n"
       ]
      }
     ],
     "prompt_number": 4
    },
    {
     "cell_type": "code",
     "collapsed": false,
     "input": [
      "print(len(set(words)), 'unique words')"
     ],
     "language": "python",
     "metadata": {},
     "outputs": [
      {
       "output_type": "stream",
       "stream": "stdout",
       "text": [
        "4086 unique words\n"
       ]
      }
     ],
     "prompt_number": 5
    },
    {
     "cell_type": "markdown",
     "metadata": {},
     "source": [
      "- string conversion with `lower`\n",
      "- regular expressions\n",
      "- sets, lists"
     ]
    },
    {
     "cell_type": "heading",
     "level": 3,
     "metadata": {
      "slideshow": {
       "slide_type": "slide"
      }
     },
     "source": [
      "Frequency of words?"
     ]
    },
    {
     "cell_type": "markdown",
     "metadata": {},
     "source": [
      "Words greater than lenth `2`"
     ]
    },
    {
     "cell_type": "code",
     "collapsed": false,
     "input": [
      "words_gt2 = []\n",
      "for w in words:\n",
      "    if len(w) > 2:\n",
      "        words_gt2.append(w)\n",
      "        \n",
      "print(len(words), len(words_gt2))"
     ],
     "language": "python",
     "metadata": {},
     "outputs": [
      {
       "output_type": "stream",
       "stream": "stdout",
       "text": [
        "27577 21135\n"
       ]
      }
     ],
     "prompt_number": 8
    },
    {
     "cell_type": "markdown",
     "metadata": {},
     "source": [
      "- `append`\n",
      "- `for` loops"
     ]
    },
    {
     "cell_type": "code",
     "collapsed": false,
     "input": [
      "words_gt2 = filter(lambda x: len(x)>2, words)\n",
      "print(len(words_gt2))"
     ],
     "language": "python",
     "metadata": {},
     "outputs": [
      {
       "output_type": "stream",
       "stream": "stdout",
       "text": [
        "21135\n"
       ]
      }
     ],
     "prompt_number": 10
    },
    {
     "cell_type": "markdown",
     "metadata": {},
     "source": [
      "A favorite python data structure, the `dictionary`."
     ]
    },
    {
     "cell_type": "code",
     "collapsed": false,
     "input": [
      "d = dict()\n",
      "\n",
      "for w in words_gt2:\n",
      "    if w in d:\n",
      "        d[w] += 1\n",
      "    else:\n",
      "        d[w] = 1"
     ],
     "language": "python",
     "metadata": {},
     "outputs": [],
     "prompt_number": 17
    },
    {
     "cell_type": "markdown",
     "metadata": {},
     "source": [
      "- `dictionary`"
     ]
    },
    {
     "cell_type": "code",
     "collapsed": false,
     "input": [
      "d = dict() # could use {}\n",
      "for w in words:\n",
      "    d[w] = d.get(w,0) + 1"
     ],
     "language": "python",
     "metadata": {},
     "outputs": [],
     "prompt_number": 18
    },
    {
     "cell_type": "markdown",
     "metadata": {},
     "source": [
      "- The `get` method"
     ]
    },
    {
     "cell_type": "code",
     "collapsed": false,
     "input": [
      "_ = map(print, d.items()[:5])"
     ],
     "language": "python",
     "metadata": {},
     "outputs": [
      {
       "output_type": "stream",
       "stream": "stdout",
       "text": [
        "('forgone', 1)\n",
        "('pardon', 6)\n",
        "('nunnery', 5)\n",
        "('lunacies', 1)\n",
        "('doubts', 1)\n"
       ]
      }
     ],
     "prompt_number": 20
    },
    {
     "cell_type": "markdown",
     "metadata": {},
     "source": [
      "- get(key, default)"
     ]
    },
    {
     "cell_type": "heading",
     "level": 2,
     "metadata": {
      "slideshow": {
       "slide_type": "slide"
      }
     },
     "source": [
      "Sorting dictionarys"
     ]
    },
    {
     "cell_type": "code",
     "collapsed": false,
     "input": [
      "_ = map(print, sorted(d.items(), reverse=True)[:5])"
     ],
     "language": "python",
     "metadata": {},
     "outputs": [
      {
       "output_type": "stream",
       "stream": "stdout",
       "text": [
        "('youth', 15)\n",
        "('yourselves', 1)\n",
        "('yourself', 14)\n",
        "('yours', 3)\n",
        "('your', 211)\n"
       ]
      }
     ],
     "prompt_number": 24
    },
    {
     "cell_type": "code",
     "collapsed": false,
     "input": [
      "def dic_key(dic_pair):\n",
      "    # dic_pair[0] == key\n",
      "    # dic_pair[1] == value\n",
      "    return dic_pair[1]"
     ],
     "language": "python",
     "metadata": {},
     "outputs": [],
     "prompt_number": 27
    },
    {
     "cell_type": "code",
     "collapsed": false,
     "input": [
      "sorted_items = sorted(d.items(), reverse=True, key=dic_key)\n",
      "_ = map(print, sorted_items[:5])"
     ],
     "language": "python",
     "metadata": {},
     "outputs": [
      {
       "output_type": "stream",
       "stream": "stdout",
       "text": [
        "('the', 930)\n",
        "('and', 843)\n",
        "('you', 496)\n",
        "('hamlet', 368)\n",
        "('that', 346)\n"
       ]
      }
     ],
     "prompt_number": 28
    },
    {
     "cell_type": "markdown",
     "metadata": {},
     "source": [
      "- `sorted`\n",
      "- `key` function\n",
      "- Converting dictionaries to a list of pairs."
     ]
    },
    {
     "cell_type": "code",
     "collapsed": false,
     "input": [
      "sorted_items = sorted(d.items(), reverse=True, key=lambda x: x[1])\n",
      "_ = map(print, sorted_items[:5])"
     ],
     "language": "python",
     "metadata": {},
     "outputs": [
      {
       "output_type": "stream",
       "stream": "stdout",
       "text": [
        "('the', 930)\n",
        "('and', 843)\n",
        "('you', 496)\n",
        "('hamlet', 368)\n",
        "('that', 346)\n"
       ]
      }
     ],
     "prompt_number": 30
    },
    {
     "cell_type": "markdown",
     "metadata": {},
     "source": [
      "- `lambda` functions"
     ]
    },
    {
     "cell_type": "heading",
     "level": 2,
     "metadata": {
      "slideshow": {
       "slide_type": "slide"
      }
     },
     "source": [
      "Wrangling"
     ]
    },
    {
     "cell_type": "code",
     "collapsed": false,
     "input": [
      "values = []\n",
      "labels = []\n",
      "for l,v in sorted_items[:20]:\n",
      "    values.append(v)\n",
      "    labels.append(l)"
     ],
     "language": "python",
     "metadata": {},
     "outputs": [],
     "prompt_number": 31
    },
    {
     "cell_type": "markdown",
     "metadata": {},
     "source": [
      "- `append`\n",
      "- `selection`"
     ]
    },
    {
     "cell_type": "code",
     "collapsed": false,
     "input": [
      "values = map(lambda x: x[1], sorted_items[:20])\n",
      "labels = map(lambda x: x[0], sorted_items[:20])"
     ],
     "language": "python",
     "metadata": {},
     "outputs": [],
     "prompt_number": 27
    },
    {
     "cell_type": "markdown",
     "metadata": {},
     "source": [
      "- `map` abstraction"
     ]
    },
    {
     "cell_type": "code",
     "collapsed": false,
     "input": [
      "_ = print(values), print(labels)"
     ],
     "language": "python",
     "metadata": {},
     "outputs": [
      {
       "output_type": "stream",
       "stream": "stdout",
       "text": [
        "[930, 843, 496, 368, 346, 278, 262, 238, 238, 232, 232, 215, 211, 186, 171, 160, 149, 134, 124, 112]\n",
        "['the', 'and', 'you', 'hamlet', 'that', 'lord', 'not', 'his', 'this', 'with', 'but', 'for', 'your', 'what', 'king', 'him', 'have', 'will', 'polonius', 'horatio']\n"
       ]
      }
     ],
     "prompt_number": 32
    },
    {
     "cell_type": "heading",
     "level": 3,
     "metadata": {},
     "source": [
      "List Comprehension"
     ]
    },
    {
     "cell_type": "code",
     "collapsed": false,
     "input": [
      "values = [ x[1] for x in sorted_items[:20] ]\n",
      "labels = [ x[0] for x in sorted_items[:20] ]"
     ],
     "language": "python",
     "metadata": {},
     "outputs": [],
     "prompt_number": 33
    },
    {
     "cell_type": "markdown",
     "metadata": {},
     "source": [
      "- another favorite: list comprehension!\n",
      "- selection"
     ]
    },
    {
     "cell_type": "heading",
     "level": 3,
     "metadata": {
      "slideshow": {
       "slide_type": "slide"
      }
     },
     "source": [
      "Visualize"
     ]
    },
    {
     "cell_type": "code",
     "collapsed": false,
     "input": [
      "%matplotlib inline\n",
      "import matplotlib.pyplot as plt\n",
      "import utils\n",
      "reload(utils)"
     ],
     "language": "python",
     "metadata": {},
     "outputs": [
      {
       "metadata": {},
       "output_type": "pyout",
       "prompt_number": 34,
       "text": [
        "<module 'utils' from 'utils.pyc'>"
       ]
      }
     ],
     "prompt_number": 34
    },
    {
     "cell_type": "code",
     "collapsed": false,
     "input": [
      "plt.barh(range(len(values)), values, color='grey')\n",
      "plt.yticks(range(len(values)), labels)\n",
      "plt.show()"
     ],
     "language": "python",
     "metadata": {},
     "outputs": [
      {
       "metadata": {},
       "output_type": "display_data",
       "png": "[encoded data removed]",
       "text": [
        "<matplotlib.figure.Figure at 0x10793df90>"
       ]
      }
     ],
     "prompt_number": 35
    },
    {
     "cell_type": "heading",
     "level": 2,
     "metadata": {
      "slideshow": {
       "slide_type": "slide"
      }
     },
     "source": [
      "Process"
     ]
    },
    {
     "cell_type": "markdown",
     "metadata": {},
     "source": [
      "- Raw data (maybe BIG)\n",
      "- Processing (*wrangling*)\n",
      "- Exporatory Data Analysis\n",
      "- Analysis\n",
      "- Visualization\n",
      "- Web app?"
     ]
    },
    {
     "cell_type": "markdown",
     "metadata": {},
     "source": [
      "**Methods**: R, Python, Matlab, IDL, Excel,..."
     ]
    },
    {
     "cell_type": "markdown",
     "metadata": {},
     "source": [
      "**Python**: \n",
      "+ notebook, numpy, matplotlib, pandas, scikit-learn, \n",
      "+ pyspark, ipython parallel"
     ]
    }
   ],
   "metadata": {}
  }
 ]
}